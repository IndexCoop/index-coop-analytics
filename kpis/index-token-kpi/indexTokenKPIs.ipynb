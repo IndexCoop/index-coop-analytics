{
 "cells": [
  {
   "cell_type": "code",
   "execution_count": 126,
   "id": "9f2c2ab6-8591-4792-a3c6-d6d0cfe2396d",
   "metadata": {},
   "outputs": [],
   "source": [
    "import numpy as np\n",
    "import pandas as pd\n",
    "import matplotlib.pyplot as plt\n",
    "import seaborn as sns\n",
    "import pingouin as pg\n",
    "\n",
    "from datetime import datetime, timedelta, date\n",
    "\n",
    "from pycoingecko import CoinGeckoAPI\n",
    "\n",
    "#IndexCoop: takeeacy#5560"
   ]
  },
  {
   "cell_type": "code",
   "execution_count": 2,
   "id": "bc51d200-d1a0-4898-bced-d0b615b73b18",
   "metadata": {},
   "outputs": [],
   "source": [
    "cg = CoinGeckoAPI()"
   ]
  },
  {
   "cell_type": "markdown",
   "id": "8ae02699-b223-45fa-bfc9-1084b9b81855",
   "metadata": {},
   "source": [
    "Index first price day according to Coingecko API 10/6/2020"
   ]
  },
  {
   "cell_type": "markdown",
   "id": "4da93a47-f568-4980-9511-d71af60dbdb1",
   "metadata": {},
   "source": [
    "# Setup Dates"
   ]
  },
  {
   "cell_type": "markdown",
   "id": "b672c1f0-7331-4c94-8d73-ccdc2fe5c7df",
   "metadata": {},
   "source": [
    "#### Note that my timezone is in Eastern Standard Time (USA) and the data reported in unixtime was later adjusted to my locale. "
   ]
  },
  {
   "cell_type": "code",
   "execution_count": 3,
   "id": "2785b218-a5c9-4f71-b552-341855895c0c",
   "metadata": {},
   "outputs": [],
   "source": [
    "def daterange(date1, date2):\n",
    "    for n in range(int ((date2 - date1).days)+1):\n",
    "        yield date1 + timedelta(n)"
   ]
  },
  {
   "cell_type": "code",
   "execution_count": 4,
   "id": "e46baf7b-5f80-4b97-b64f-207bafe0890e",
   "metadata": {},
   "outputs": [],
   "source": [
    "start_dt = date(2020, 10, 6)\n",
    "end_dt = date(2021, 8, 9)"
   ]
  },
  {
   "cell_type": "code",
   "execution_count": 5,
   "id": "14eca351-2f82-4c16-bea8-7be81265f2dc",
   "metadata": {},
   "outputs": [],
   "source": [
    "indexDates = [] \n",
    "for dt in daterange(start_dt, end_dt):\n",
    "    newDt = datetime.strftime(dt, '%d-%m-%Y')\n",
    "    indexDates.append(newDt)"
   ]
  },
  {
   "cell_type": "markdown",
   "id": "9c34e8d7-ea39-4081-9cca-512ee743ca3a",
   "metadata": {},
   "source": [
    "# Get Coingecko prices from dates described above"
   ]
  },
  {
   "cell_type": "code",
   "execution_count": 182,
   "id": "7d53b195-fc95-48f0-96fd-14571723538e",
   "metadata": {
    "tags": []
   },
   "outputs": [],
   "source": [
    "indexHistory = cg.get_coin_market_chart_by_id(id='index-cooperative', vs_currency='usd', days='max', interval='daily')"
   ]
  },
  {
   "cell_type": "code",
   "execution_count": 25,
   "id": "1945b5d8-3c31-46a2-8cd5-f2b0f76882d0",
   "metadata": {},
   "outputs": [],
   "source": [
    "indexEthHistory = cg.get_coin_market_chart_by_id(id='index-cooperative', vs_currency='eth', days='max', interval='daily')"
   ]
  },
  {
   "cell_type": "code",
   "execution_count": 16,
   "id": "fae7eacb-724b-4c2d-b28a-e772503c30c8",
   "metadata": {},
   "outputs": [],
   "source": [
    "ethHistory = cg.get_coin_market_chart_by_id(id='ethereum', vs_currency='usd', days='max', interval='daily')"
   ]
  },
  {
   "cell_type": "code",
   "execution_count": 19,
   "id": "d97f1a9e-4715-40ac-ac47-49d0fa583cb5",
   "metadata": {},
   "outputs": [
    {
     "data": {
      "text/plain": [
       "dict_keys(['prices', 'market_caps', 'total_volumes'])"
      ]
     },
     "execution_count": 19,
     "metadata": {},
     "output_type": "execute_result"
    }
   ],
   "source": [
    "indexHistory.keys()"
   ]
  },
  {
   "cell_type": "markdown",
   "id": "b7420bb2-0ce9-425a-b943-cbcf6d693809",
   "metadata": {},
   "source": [
    "# Build dataframes"
   ]
  },
  {
   "cell_type": "code",
   "execution_count": 67,
   "id": "acb791b6-2e2b-402c-8cdb-07d7d084c9bd",
   "metadata": {},
   "outputs": [],
   "source": [
    "for iteration, key in enumerate(ethHistory.keys()):\n",
    "    if iteration > 0:\n",
    "        joiningDf = pd.merge(joiningDf, pd.DataFrame(ethHistory[key], columns = ['unixTime', key]), on='unixTime')\n",
    "    elif iteration == 0:\n",
    "        joiningDf = pd.DataFrame(ethHistory[key], columns=['unixTime', key])"
   ]
  },
  {
   "cell_type": "code",
   "execution_count": 70,
   "id": "215e3f1a-ddea-4cce-9494-ba61c462584e",
   "metadata": {},
   "outputs": [],
   "source": [
    "mainDf = joiningDf.copy()"
   ]
  },
  {
   "cell_type": "code",
   "execution_count": 71,
   "id": "cc2fecad-7bbc-429a-b30e-e044726b9a49",
   "metadata": {},
   "outputs": [],
   "source": [
    "for dic in [indexHistory, indexEthHistory]:\n",
    "    for iteration, key in enumerate(dic.keys()):\n",
    "        if iteration > 0:\n",
    "            joiningDf = pd.merge(joiningDf, pd.DataFrame(dic[key], columns = ['unixTime', key]), on='unixTime')\n",
    "        elif iteration == 0:\n",
    "            joiningDf = pd.DataFrame(dic[key], columns=['unixTime', key])\n",
    "    mainDf = pd.merge(mainDf, joiningDf, on='unixTime')"
   ]
  },
  {
   "cell_type": "code",
   "execution_count": 76,
   "id": "c3309ae3-2ab7-4030-8364-37aba03e314c",
   "metadata": {},
   "outputs": [],
   "source": [
    "mainDf.columns = ['unixTime', 'ethPrice', 'ethMarketCap', 'ethTotalVolume', 'indexPrice', 'indexMarketCap', 'indexTotalVolume', 'indexPriceInETH', 'indexMarketCapInETH', 'indexTotalVolumeInETH']"
   ]
  },
  {
   "cell_type": "code",
   "execution_count": 77,
   "id": "58ccb126-f70c-4863-9b06-04c2be3c8b51",
   "metadata": {},
   "outputs": [
    {
     "data": {
      "text/html": [
       "<div>\n",
       "<style scoped>\n",
       "    .dataframe tbody tr th:only-of-type {\n",
       "        vertical-align: middle;\n",
       "    }\n",
       "\n",
       "    .dataframe tbody tr th {\n",
       "        vertical-align: top;\n",
       "    }\n",
       "\n",
       "    .dataframe thead th {\n",
       "        text-align: right;\n",
       "    }\n",
       "</style>\n",
       "<table border=\"1\" class=\"dataframe\">\n",
       "  <thead>\n",
       "    <tr style=\"text-align: right;\">\n",
       "      <th></th>\n",
       "      <th>unixTime</th>\n",
       "      <th>ethPrice</th>\n",
       "      <th>ethMarketCap</th>\n",
       "      <th>ethTotalVolume</th>\n",
       "      <th>indexPrice</th>\n",
       "      <th>indexMarketCap</th>\n",
       "      <th>indexTotalVolume</th>\n",
       "      <th>indexPriceInETH</th>\n",
       "      <th>indexMarketCapInETH</th>\n",
       "      <th>indexTotalVolumeInETH</th>\n",
       "    </tr>\n",
       "  </thead>\n",
       "  <tbody>\n",
       "    <tr>\n",
       "      <th>0</th>\n",
       "      <td>1602028800000</td>\n",
       "      <td>340.616022</td>\n",
       "      <td>3.841983e+10</td>\n",
       "      <td>1.028098e+10</td>\n",
       "      <td>3.550138</td>\n",
       "      <td>0.000000e+00</td>\n",
       "      <td>27002.899771</td>\n",
       "      <td>0.010397</td>\n",
       "      <td>0.000000</td>\n",
       "      <td>79.082158</td>\n",
       "    </tr>\n",
       "    <tr>\n",
       "      <th>1</th>\n",
       "      <td>1602115200000</td>\n",
       "      <td>341.443796</td>\n",
       "      <td>3.855638e+10</td>\n",
       "      <td>8.044228e+09</td>\n",
       "      <td>3.550138</td>\n",
       "      <td>0.000000e+00</td>\n",
       "      <td>27002.899771</td>\n",
       "      <td>0.010397</td>\n",
       "      <td>0.000000</td>\n",
       "      <td>79.082158</td>\n",
       "    </tr>\n",
       "    <tr>\n",
       "      <th>2</th>\n",
       "      <td>1602201600000</td>\n",
       "      <td>350.055677</td>\n",
       "      <td>3.953990e+10</td>\n",
       "      <td>9.330979e+09</td>\n",
       "      <td>5.603986</td>\n",
       "      <td>2.542289e+05</td>\n",
       "      <td>55115.572943</td>\n",
       "      <td>0.015970</td>\n",
       "      <td>726.092077</td>\n",
       "      <td>157.068435</td>\n",
       "    </tr>\n",
       "    <tr>\n",
       "      <th>3</th>\n",
       "      <td>1602288000000</td>\n",
       "      <td>365.339445</td>\n",
       "      <td>4.126169e+10</td>\n",
       "      <td>1.130170e+10</td>\n",
       "      <td>3.922927</td>\n",
       "      <td>2.112074e+05</td>\n",
       "      <td>59669.160850</td>\n",
       "      <td>0.010739</td>\n",
       "      <td>577.961431</td>\n",
       "      <td>163.336624</td>\n",
       "    </tr>\n",
       "    <tr>\n",
       "      <th>4</th>\n",
       "      <td>1602374400000</td>\n",
       "      <td>370.471811</td>\n",
       "      <td>4.191945e+10</td>\n",
       "      <td>1.067399e+10</td>\n",
       "      <td>2.976718</td>\n",
       "      <td>1.864196e+05</td>\n",
       "      <td>26187.182401</td>\n",
       "      <td>0.008030</td>\n",
       "      <td>502.483551</td>\n",
       "      <td>70.645259</td>\n",
       "    </tr>\n",
       "    <tr>\n",
       "      <th>...</th>\n",
       "      <td>...</td>\n",
       "      <td>...</td>\n",
       "      <td>...</td>\n",
       "      <td>...</td>\n",
       "      <td>...</td>\n",
       "      <td>...</td>\n",
       "      <td>...</td>\n",
       "      <td>...</td>\n",
       "      <td>...</td>\n",
       "      <td>...</td>\n",
       "    </tr>\n",
       "    <tr>\n",
       "      <th>301</th>\n",
       "      <td>1628035200000</td>\n",
       "      <td>2521.268475</td>\n",
       "      <td>2.947600e+11</td>\n",
       "      <td>2.630438e+10</td>\n",
       "      <td>27.607461</td>\n",
       "      <td>5.323460e+07</td>\n",
       "      <td>97357.032722</td>\n",
       "      <td>0.010989</td>\n",
       "      <td>21185.581046</td>\n",
       "      <td>38.751073</td>\n",
       "    </tr>\n",
       "    <tr>\n",
       "      <th>302</th>\n",
       "      <td>1628121600000</td>\n",
       "      <td>2724.532243</td>\n",
       "      <td>3.196132e+11</td>\n",
       "      <td>2.935665e+10</td>\n",
       "      <td>29.785522</td>\n",
       "      <td>5.852993e+07</td>\n",
       "      <td>527461.248882</td>\n",
       "      <td>0.010930</td>\n",
       "      <td>21401.091740</td>\n",
       "      <td>193.552441</td>\n",
       "    </tr>\n",
       "    <tr>\n",
       "      <th>303</th>\n",
       "      <td>1628208000000</td>\n",
       "      <td>2821.649693</td>\n",
       "      <td>3.302237e+11</td>\n",
       "      <td>3.797035e+10</td>\n",
       "      <td>33.152272</td>\n",
       "      <td>6.619275e+07</td>\n",
       "      <td>236040.514370</td>\n",
       "      <td>0.011741</td>\n",
       "      <td>23433.921535</td>\n",
       "      <td>83.592621</td>\n",
       "    </tr>\n",
       "    <tr>\n",
       "      <th>304</th>\n",
       "      <td>1628294400000</td>\n",
       "      <td>2888.732274</td>\n",
       "      <td>3.379615e+11</td>\n",
       "      <td>3.087644e+10</td>\n",
       "      <td>35.287919</td>\n",
       "      <td>7.037385e+07</td>\n",
       "      <td>528469.873543</td>\n",
       "      <td>0.012217</td>\n",
       "      <td>24350.890217</td>\n",
       "      <td>182.954357</td>\n",
       "    </tr>\n",
       "    <tr>\n",
       "      <th>305</th>\n",
       "      <td>1628380800000</td>\n",
       "      <td>3151.217517</td>\n",
       "      <td>3.682350e+11</td>\n",
       "      <td>3.887072e+10</td>\n",
       "      <td>36.855835</td>\n",
       "      <td>7.391289e+07</td>\n",
       "      <td>489441.459287</td>\n",
       "      <td>0.011695</td>\n",
       "      <td>23487.222454</td>\n",
       "      <td>155.302038</td>\n",
       "    </tr>\n",
       "  </tbody>\n",
       "</table>\n",
       "<p>306 rows × 10 columns</p>\n",
       "</div>"
      ],
      "text/plain": [
       "          unixTime     ethPrice  ethMarketCap  ethTotalVolume  indexPrice  \\\n",
       "0    1602028800000   340.616022  3.841983e+10    1.028098e+10    3.550138   \n",
       "1    1602115200000   341.443796  3.855638e+10    8.044228e+09    3.550138   \n",
       "2    1602201600000   350.055677  3.953990e+10    9.330979e+09    5.603986   \n",
       "3    1602288000000   365.339445  4.126169e+10    1.130170e+10    3.922927   \n",
       "4    1602374400000   370.471811  4.191945e+10    1.067399e+10    2.976718   \n",
       "..             ...          ...           ...             ...         ...   \n",
       "301  1628035200000  2521.268475  2.947600e+11    2.630438e+10   27.607461   \n",
       "302  1628121600000  2724.532243  3.196132e+11    2.935665e+10   29.785522   \n",
       "303  1628208000000  2821.649693  3.302237e+11    3.797035e+10   33.152272   \n",
       "304  1628294400000  2888.732274  3.379615e+11    3.087644e+10   35.287919   \n",
       "305  1628380800000  3151.217517  3.682350e+11    3.887072e+10   36.855835   \n",
       "\n",
       "     indexMarketCap  indexTotalVolume  indexPriceInETH  indexMarketCapInETH  \\\n",
       "0      0.000000e+00      27002.899771         0.010397             0.000000   \n",
       "1      0.000000e+00      27002.899771         0.010397             0.000000   \n",
       "2      2.542289e+05      55115.572943         0.015970           726.092077   \n",
       "3      2.112074e+05      59669.160850         0.010739           577.961431   \n",
       "4      1.864196e+05      26187.182401         0.008030           502.483551   \n",
       "..              ...               ...              ...                  ...   \n",
       "301    5.323460e+07      97357.032722         0.010989         21185.581046   \n",
       "302    5.852993e+07     527461.248882         0.010930         21401.091740   \n",
       "303    6.619275e+07     236040.514370         0.011741         23433.921535   \n",
       "304    7.037385e+07     528469.873543         0.012217         24350.890217   \n",
       "305    7.391289e+07     489441.459287         0.011695         23487.222454   \n",
       "\n",
       "     indexTotalVolumeInETH  \n",
       "0                79.082158  \n",
       "1                79.082158  \n",
       "2               157.068435  \n",
       "3               163.336624  \n",
       "4                70.645259  \n",
       "..                     ...  \n",
       "301              38.751073  \n",
       "302             193.552441  \n",
       "303              83.592621  \n",
       "304             182.954357  \n",
       "305             155.302038  \n",
       "\n",
       "[306 rows x 10 columns]"
      ]
     },
     "execution_count": 77,
     "metadata": {},
     "output_type": "execute_result"
    }
   ],
   "source": [
    "mainDf"
   ]
  },
  {
   "cell_type": "markdown",
   "id": "05632265-2922-4157-8dc0-9f75ce0bff8c",
   "metadata": {},
   "source": [
    "# Change Unix times"
   ]
  },
  {
   "cell_type": "code",
   "execution_count": 163,
   "id": "c0bcf0e3-a3ba-4367-9530-1af4bd5cd0a2",
   "metadata": {},
   "outputs": [],
   "source": [
    "newTime = []\n",
    "for unixTime in mainDf.unixTime:\n",
    "    dt = datetime.fromtimestamp(unixTime/1000)\n",
    "    newTime.append([\n",
    "        unixTime,\n",
    "        str(dt)[:10],\n",
    "        dt.year,\n",
    "        dt.month,\n",
    "        dt.day,\n",
    "        dt.weekday(),\n",
    "    ])"
   ]
  },
  {
   "cell_type": "code",
   "execution_count": 164,
   "id": "e751a78d-5d6d-4dbd-b524-7cf5ef5b3bca",
   "metadata": {},
   "outputs": [],
   "source": [
    "newTimeDf = pd.DataFrame(newTime, columns = ['unixTime', 'date', 'year', 'month', 'day', 'weekday'])"
   ]
  },
  {
   "cell_type": "code",
   "execution_count": 165,
   "id": "0d718c06-4eec-4afe-858e-d371bc3445b7",
   "metadata": {},
   "outputs": [],
   "source": [
    "def weekdayConverter(x):\n",
    "    if x == 0:\n",
    "        return('Mon')\n",
    "    elif x == 1:\n",
    "        return('Tue')\n",
    "    elif x == 2:\n",
    "        return('Wed')\n",
    "    elif x == 3:\n",
    "        return('Thu')\n",
    "    elif x == 4:\n",
    "        return('Fri')\n",
    "    elif x == 5:\n",
    "        return('Sat')\n",
    "    elif x == 6:\n",
    "        return('Sun')"
   ]
  },
  {
   "cell_type": "code",
   "execution_count": 166,
   "id": "0e41e9ac-2bd2-452c-b5da-67ee5c63a37a",
   "metadata": {},
   "outputs": [],
   "source": [
    "newTimeDf['weekday_str'] = newTimeDf['weekday'].apply(weekdayConverter)"
   ]
  },
  {
   "cell_type": "code",
   "execution_count": 169,
   "id": "252d83f1-fcab-49eb-9332-7c88e79eda10",
   "metadata": {},
   "outputs": [
    {
     "data": {
      "text/html": [
       "<div>\n",
       "<style scoped>\n",
       "    .dataframe tbody tr th:only-of-type {\n",
       "        vertical-align: middle;\n",
       "    }\n",
       "\n",
       "    .dataframe tbody tr th {\n",
       "        vertical-align: top;\n",
       "    }\n",
       "\n",
       "    .dataframe thead th {\n",
       "        text-align: right;\n",
       "    }\n",
       "</style>\n",
       "<table border=\"1\" class=\"dataframe\">\n",
       "  <thead>\n",
       "    <tr style=\"text-align: right;\">\n",
       "      <th></th>\n",
       "      <th>unixTime</th>\n",
       "      <th>date</th>\n",
       "      <th>year</th>\n",
       "      <th>month</th>\n",
       "      <th>day</th>\n",
       "      <th>weekday</th>\n",
       "      <th>weekday_str</th>\n",
       "    </tr>\n",
       "  </thead>\n",
       "  <tbody>\n",
       "    <tr>\n",
       "      <th>0</th>\n",
       "      <td>1602028800000</td>\n",
       "      <td>2020-10-06</td>\n",
       "      <td>2020</td>\n",
       "      <td>10</td>\n",
       "      <td>6</td>\n",
       "      <td>1</td>\n",
       "      <td>Tue</td>\n",
       "    </tr>\n",
       "    <tr>\n",
       "      <th>1</th>\n",
       "      <td>1602115200000</td>\n",
       "      <td>2020-10-07</td>\n",
       "      <td>2020</td>\n",
       "      <td>10</td>\n",
       "      <td>7</td>\n",
       "      <td>2</td>\n",
       "      <td>Wed</td>\n",
       "    </tr>\n",
       "    <tr>\n",
       "      <th>2</th>\n",
       "      <td>1602201600000</td>\n",
       "      <td>2020-10-08</td>\n",
       "      <td>2020</td>\n",
       "      <td>10</td>\n",
       "      <td>8</td>\n",
       "      <td>3</td>\n",
       "      <td>Thu</td>\n",
       "    </tr>\n",
       "    <tr>\n",
       "      <th>3</th>\n",
       "      <td>1602288000000</td>\n",
       "      <td>2020-10-09</td>\n",
       "      <td>2020</td>\n",
       "      <td>10</td>\n",
       "      <td>9</td>\n",
       "      <td>4</td>\n",
       "      <td>Fri</td>\n",
       "    </tr>\n",
       "    <tr>\n",
       "      <th>4</th>\n",
       "      <td>1602374400000</td>\n",
       "      <td>2020-10-10</td>\n",
       "      <td>2020</td>\n",
       "      <td>10</td>\n",
       "      <td>10</td>\n",
       "      <td>5</td>\n",
       "      <td>Sat</td>\n",
       "    </tr>\n",
       "    <tr>\n",
       "      <th>...</th>\n",
       "      <td>...</td>\n",
       "      <td>...</td>\n",
       "      <td>...</td>\n",
       "      <td>...</td>\n",
       "      <td>...</td>\n",
       "      <td>...</td>\n",
       "      <td>...</td>\n",
       "    </tr>\n",
       "    <tr>\n",
       "      <th>301</th>\n",
       "      <td>1628035200000</td>\n",
       "      <td>2021-08-03</td>\n",
       "      <td>2021</td>\n",
       "      <td>8</td>\n",
       "      <td>3</td>\n",
       "      <td>1</td>\n",
       "      <td>Tue</td>\n",
       "    </tr>\n",
       "    <tr>\n",
       "      <th>302</th>\n",
       "      <td>1628121600000</td>\n",
       "      <td>2021-08-04</td>\n",
       "      <td>2021</td>\n",
       "      <td>8</td>\n",
       "      <td>4</td>\n",
       "      <td>2</td>\n",
       "      <td>Wed</td>\n",
       "    </tr>\n",
       "    <tr>\n",
       "      <th>303</th>\n",
       "      <td>1628208000000</td>\n",
       "      <td>2021-08-05</td>\n",
       "      <td>2021</td>\n",
       "      <td>8</td>\n",
       "      <td>5</td>\n",
       "      <td>3</td>\n",
       "      <td>Thu</td>\n",
       "    </tr>\n",
       "    <tr>\n",
       "      <th>304</th>\n",
       "      <td>1628294400000</td>\n",
       "      <td>2021-08-06</td>\n",
       "      <td>2021</td>\n",
       "      <td>8</td>\n",
       "      <td>6</td>\n",
       "      <td>4</td>\n",
       "      <td>Fri</td>\n",
       "    </tr>\n",
       "    <tr>\n",
       "      <th>305</th>\n",
       "      <td>1628380800000</td>\n",
       "      <td>2021-08-07</td>\n",
       "      <td>2021</td>\n",
       "      <td>8</td>\n",
       "      <td>7</td>\n",
       "      <td>5</td>\n",
       "      <td>Sat</td>\n",
       "    </tr>\n",
       "  </tbody>\n",
       "</table>\n",
       "<p>306 rows × 7 columns</p>\n",
       "</div>"
      ],
      "text/plain": [
       "          unixTime        date  year  month  day  weekday weekday_str\n",
       "0    1602028800000  2020-10-06  2020     10    6        1         Tue\n",
       "1    1602115200000  2020-10-07  2020     10    7        2         Wed\n",
       "2    1602201600000  2020-10-08  2020     10    8        3         Thu\n",
       "3    1602288000000  2020-10-09  2020     10    9        4         Fri\n",
       "4    1602374400000  2020-10-10  2020     10   10        5         Sat\n",
       "..             ...         ...   ...    ...  ...      ...         ...\n",
       "301  1628035200000  2021-08-03  2021      8    3        1         Tue\n",
       "302  1628121600000  2021-08-04  2021      8    4        2         Wed\n",
       "303  1628208000000  2021-08-05  2021      8    5        3         Thu\n",
       "304  1628294400000  2021-08-06  2021      8    6        4         Fri\n",
       "305  1628380800000  2021-08-07  2021      8    7        5         Sat\n",
       "\n",
       "[306 rows x 7 columns]"
      ]
     },
     "execution_count": 169,
     "metadata": {},
     "output_type": "execute_result"
    }
   ],
   "source": [
    "newTimeDf"
   ]
  },
  {
   "cell_type": "code",
   "execution_count": 168,
   "id": "5467db07-ad7f-47a0-af8e-6e71dcc58f35",
   "metadata": {},
   "outputs": [],
   "source": [
    "mainDf = pd.merge(newTimeDf, mainDf, on='unixTime')"
   ]
  },
  {
   "cell_type": "markdown",
   "id": "aa8e5aeb-60c0-472b-b434-9a9b9a883d59",
   "metadata": {},
   "source": [
    "# Visualize"
   ]
  },
  {
   "cell_type": "code",
   "execution_count": 189,
   "id": "d85a914f-518e-4449-81fa-cd3c4eb29fcd",
   "metadata": {},
   "outputs": [
    {
     "data": {
      "text/plain": [
       "<AxesSubplot:ylabel='indexPrice'>"
      ]
     },
     "execution_count": 189,
     "metadata": {},
     "output_type": "execute_result"
    },
    {
     "data": {
      "image/png": "[encoded data removed]",
      "text/plain": [
       "<Figure size 1440x720 with 1 Axes>"
      ]
     },
     "metadata": {
      "needs_background": "light"
     },
     "output_type": "display_data"
    }
   ],
   "source": [
    "plt.figure(figsize=(20,10))\n",
    "sns.lineplot(x=mainDf.index, y=mainDf.indexPrice)"
   ]
  },
  {
   "cell_type": "code",
   "execution_count": 190,
   "id": "011be499-6cc0-42b5-84c5-2d3acc09d801",
   "metadata": {},
   "outputs": [
    {
     "data": {
      "text/plain": [
       "<AxesSubplot:ylabel='ethPrice'>"
      ]
     },
     "execution_count": 190,
     "metadata": {},
     "output_type": "execute_result"
    },
    {
     "data": {
      "image/png": "[encoded data removed]",
      "text/plain": [
       "<Figure size 1440x720 with 1 Axes>"
      ]
     },
     "metadata": {
      "needs_background": "light"
     },
     "output_type": "display_data"
    }
   ],
   "source": [
    "plt.figure(figsize=(20,10))\n",
    "sns.lineplot(x=mainDf.index, y=mainDf.ethPrice)"
   ]
  },
  {
   "cell_type": "markdown",
   "id": "b2edc26f-9b1f-4a49-b06f-b3125fd1675f",
   "metadata": {},
   "source": [
    "# Price comparison since genesis"
   ]
  },
  {
   "cell_type": "code",
   "execution_count": 139,
   "id": "94edc6ef-71b1-43c7-95a8-a6899bd83b3d",
   "metadata": {},
   "outputs": [
    {
     "data": {
      "text/plain": [
       "count    306.000000\n",
       "mean      21.193961\n",
       "std       15.270294\n",
       "min        1.350407\n",
       "25%        5.851592\n",
       "50%       21.649440\n",
       "75%       30.120881\n",
       "max       67.031503\n",
       "Name: indexPrice, dtype: float64"
      ]
     },
     "execution_count": 139,
     "metadata": {},
     "output_type": "execute_result"
    }
   ],
   "source": [
    "mainDf['indexPrice'].describe()"
   ]
  },
  {
   "cell_type": "code",
   "execution_count": 140,
   "id": "597f5d11-669f-49d0-9f54-7bf168a17dbf",
   "metadata": {},
   "outputs": [
    {
     "data": {
      "text/plain": [
       "array([14.15, 16.44])"
      ]
     },
     "execution_count": 140,
     "metadata": {},
     "output_type": "execute_result"
    }
   ],
   "source": [
    "pg.compute_bootci(x=mainDf.indexPrice, func='std', n_boot=10000, seed=0)"
   ]
  },
  {
   "cell_type": "code",
   "execution_count": 185,
   "id": "aa13793e-5d3a-4239-9654-a147ef084348",
   "metadata": {},
   "outputs": [
    {
     "data": {
      "text/plain": [
       "count    306.000000\n",
       "mean       0.011853\n",
       "std        0.004698\n",
       "min        0.003070\n",
       "25%        0.008408\n",
       "50%        0.010977\n",
       "75%        0.014682\n",
       "max        0.029444\n",
       "Name: indexPriceInETH, dtype: float64"
      ]
     },
     "execution_count": 185,
     "metadata": {},
     "output_type": "execute_result"
    }
   ],
   "source": [
    "mainDf['indexPriceInETH'].describe()"
   ]
  },
  {
   "cell_type": "code",
   "execution_count": 186,
   "id": "7250942b-52fb-4dca-a8db-af4e3a871cae",
   "metadata": {},
   "outputs": [
    {
     "data": {
      "text/plain": [
       "array([0.  , 0.01])"
      ]
     },
     "execution_count": 186,
     "metadata": {},
     "output_type": "execute_result"
    }
   ],
   "source": [
    "pg.compute_bootci(x=mainDf.indexPriceInETH, func='std', n_boot=10000, seed=0)"
   ]
  },
  {
   "cell_type": "markdown",
   "id": "473b4333-378b-49de-872a-ecefb5bae1ac",
   "metadata": {
    "tags": []
   },
   "source": [
    "#### Since genesis, standard deviation of INDEX price has been $15.27 with 95% confidence interval (14.15,16.44). Measured in ETH, standard deviation of INDEX price has been 0.004698 ETH 95%CI (0, 0.01). I suspect there is a lower bound to reporting the bottom end of the 95% CI range. "
   ]
  },
  {
   "cell_type": "markdown",
   "id": "8eeb6437-985a-4e6c-b6ae-d6bc36837057",
   "metadata": {
    "tags": []
   },
   "source": [
    "#### Check if prices are multivariate normal and appropriate for Pearson's correlation"
   ]
  },
  {
   "cell_type": "code",
   "execution_count": 130,
   "id": "6eb7529b-c9eb-45b6-a932-972e422c4b3c",
   "metadata": {},
   "outputs": [
    {
     "data": {
      "text/plain": [
       "<seaborn.axisgrid.JointGrid at 0x27c18e0b640>"
      ]
     },
     "execution_count": 130,
     "metadata": {},
     "output_type": "execute_result"
    },
    {
     "data": {
      "image/png": "[encoded data removed]",
      "text/plain": [
       "<Figure size 432x432 with 3 Axes>"
      ]
     },
     "metadata": {
      "needs_background": "light"
     },
     "output_type": "display_data"
    }
   ],
   "source": [
    "sns.jointplot(x=mainDf.ethPrice, y=mainDf.indexPrice)"
   ]
  },
  {
   "cell_type": "code",
   "execution_count": 128,
   "id": "4441b392-f334-4f88-be99-2e63397b8fd5",
   "metadata": {},
   "outputs": [
    {
     "data": {
      "text/plain": [
       "HZResults(hz=12.844396867304111, pval=1.5469998534002195e-22, normal=False)"
      ]
     },
     "execution_count": 128,
     "metadata": {},
     "output_type": "execute_result"
    }
   ],
   "source": [
    "pg.multivariate_normality(mainDf[['ethPrice','indexPrice']])"
   ]
  },
  {
   "cell_type": "markdown",
   "id": "efcc70a9-3c04-4262-bb7f-157509fdaefe",
   "metadata": {},
   "source": [
    "#### Index and ETH prices are not multivariate normal. Thus, analyses will use spearman's correlation instead"
   ]
  },
  {
   "cell_type": "code",
   "execution_count": 132,
   "id": "ac791a95-84d2-4ac3-887c-6748b07fa18f",
   "metadata": {},
   "outputs": [
    {
     "data": {
      "text/html": [
       "<div>\n",
       "<style scoped>\n",
       "    .dataframe tbody tr th:only-of-type {\n",
       "        vertical-align: middle;\n",
       "    }\n",
       "\n",
       "    .dataframe tbody tr th {\n",
       "        vertical-align: top;\n",
       "    }\n",
       "\n",
       "    .dataframe thead th {\n",
       "        text-align: right;\n",
       "    }\n",
       "</style>\n",
       "<table border=\"1\" class=\"dataframe\">\n",
       "  <thead>\n",
       "    <tr style=\"text-align: right;\">\n",
       "      <th></th>\n",
       "      <th>n</th>\n",
       "      <th>r</th>\n",
       "      <th>CI95%</th>\n",
       "      <th>p-val</th>\n",
       "      <th>power</th>\n",
       "    </tr>\n",
       "  </thead>\n",
       "  <tbody>\n",
       "    <tr>\n",
       "      <th>spearman</th>\n",
       "      <td>306</td>\n",
       "      <td>0.878025</td>\n",
       "      <td>[0.85, 0.9]</td>\n",
       "      <td>2.704555e-99</td>\n",
       "      <td>1.0</td>\n",
       "    </tr>\n",
       "  </tbody>\n",
       "</table>\n",
       "</div>"
      ],
      "text/plain": [
       "            n         r        CI95%         p-val  power\n",
       "spearman  306  0.878025  [0.85, 0.9]  2.704555e-99    1.0"
      ]
     },
     "execution_count": 132,
     "metadata": {},
     "output_type": "execute_result"
    }
   ],
   "source": [
    "pg.corr(mainDf.ethPrice, mainDf.indexPrice, method='spearman')"
   ]
  },
  {
   "cell_type": "markdown",
   "id": "410aa796-39de-4c8d-ab87-acab791fe3ae",
   "metadata": {},
   "source": [
    "# 90d comparison "
   ]
  },
  {
   "cell_type": "code",
   "execution_count": 141,
   "id": "21631640-f0da-4c18-8201-63fbd2b6c5ff",
   "metadata": {},
   "outputs": [
    {
     "data": {
      "text/plain": [
       "count    90.000000\n",
       "mean     28.442602\n",
       "std      10.067106\n",
       "min      14.519869\n",
       "25%      22.100861\n",
       "50%      26.786416\n",
       "75%      30.660106\n",
       "max      67.031503\n",
       "Name: indexPrice, dtype: float64"
      ]
     },
     "execution_count": 141,
     "metadata": {},
     "output_type": "execute_result"
    }
   ],
   "source": [
    "df90d['indexPrice'].describe()"
   ]
  },
  {
   "cell_type": "code",
   "execution_count": 142,
   "id": "ecd70fb4-04dd-4066-8b1d-061143126434",
   "metadata": {},
   "outputs": [
    {
     "data": {
      "text/plain": [
       "array([ 7.66, 12.51])"
      ]
     },
     "execution_count": 142,
     "metadata": {},
     "output_type": "execute_result"
    }
   ],
   "source": [
    "pg.compute_bootci(x=df90d.indexPrice, func='std', n_boot=10000, seed=0)"
   ]
  },
  {
   "cell_type": "code",
   "execution_count": 187,
   "id": "ad87c119-e956-4e1b-8121-b30011b788fc",
   "metadata": {},
   "outputs": [
    {
     "data": {
      "text/plain": [
       "count    90.000000\n",
       "mean      0.011291\n",
       "std       0.001658\n",
       "min       0.007905\n",
       "25%       0.009910\n",
       "50%       0.011084\n",
       "75%       0.012335\n",
       "max       0.016011\n",
       "Name: indexPriceInETH, dtype: float64"
      ]
     },
     "execution_count": 187,
     "metadata": {},
     "output_type": "execute_result"
    }
   ],
   "source": [
    "df90d['indexPriceInETH'].describe()"
   ]
  },
  {
   "cell_type": "code",
   "execution_count": 188,
   "id": "1fa9f40c-ab00-4cfa-86d2-76d7d3fa753f",
   "metadata": {},
   "outputs": [
    {
     "data": {
      "text/plain": [
       "array([0., 0.])"
      ]
     },
     "execution_count": 188,
     "metadata": {},
     "output_type": "execute_result"
    }
   ],
   "source": [
    "pg.compute_bootci(x=df90d.indexPriceInETH, func='std', n_boot=10000, seed=0)"
   ]
  },
  {
   "cell_type": "markdown",
   "id": "2b677519-66e3-497c-a4c0-5c55fb196557",
   "metadata": {
    "tags": []
   },
   "source": [
    "#### In the last 90 days, standard deviation of INDEX price has been $10.06 with 95% confidence interval (7.66,12.51). Measured in ETH, standard deviation of INDEX price has been 0.001658 ETH 95%CI (0, 0). I suspect there is a lower bound to reporting the bottom end of the 95% CI range. "
   ]
  },
  {
   "cell_type": "code",
   "execution_count": 134,
   "id": "438c4add-a6c0-46d3-bc5b-adfb90e67b41",
   "metadata": {},
   "outputs": [],
   "source": [
    "df90d = mainDf.iloc[-90:, :]"
   ]
  },
  {
   "cell_type": "code",
   "execution_count": 135,
   "id": "ce80a159-13f9-48d0-b07d-9da78aa3931b",
   "metadata": {},
   "outputs": [
    {
     "data": {
      "text/plain": [
       "<seaborn.axisgrid.JointGrid at 0x27c1b214c10>"
      ]
     },
     "execution_count": 135,
     "metadata": {},
     "output_type": "execute_result"
    },
    {
     "data": {
      "image/png": "[encoded data removed]",
      "text/plain": [
       "<Figure size 432x432 with 3 Axes>"
      ]
     },
     "metadata": {
      "needs_background": "light"
     },
     "output_type": "display_data"
    }
   ],
   "source": [
    "sns.jointplot(x=df90d.ethPrice, y=df90d.indexPrice)"
   ]
  },
  {
   "cell_type": "code",
   "execution_count": 136,
   "id": "3deb0d39-633a-40f1-9301-e6455534a289",
   "metadata": {},
   "outputs": [
    {
     "data": {
      "text/plain": [
       "HZResults(hz=4.024511011843109, pval=4.649105089437152e-09, normal=False)"
      ]
     },
     "execution_count": 136,
     "metadata": {},
     "output_type": "execute_result"
    }
   ],
   "source": [
    "pg.multivariate_normality(df90d[['ethPrice','indexPrice']])"
   ]
  },
  {
   "cell_type": "markdown",
   "id": "006dc368-e98f-4bf9-9fb4-a3aae5b30121",
   "metadata": {},
   "source": [
    "#### Index and ETH prices are not multivariate normal. Thus, analyses will use spearman's correlation instead"
   ]
  },
  {
   "cell_type": "code",
   "execution_count": 138,
   "id": "e41ef88d-9d3d-4971-a1fc-1d1227e391b2",
   "metadata": {},
   "outputs": [
    {
     "data": {
      "text/html": [
       "<div>\n",
       "<style scoped>\n",
       "    .dataframe tbody tr th:only-of-type {\n",
       "        vertical-align: middle;\n",
       "    }\n",
       "\n",
       "    .dataframe tbody tr th {\n",
       "        vertical-align: top;\n",
       "    }\n",
       "\n",
       "    .dataframe thead th {\n",
       "        text-align: right;\n",
       "    }\n",
       "</style>\n",
       "<table border=\"1\" class=\"dataframe\">\n",
       "  <thead>\n",
       "    <tr style=\"text-align: right;\">\n",
       "      <th></th>\n",
       "      <th>n</th>\n",
       "      <th>r</th>\n",
       "      <th>CI95%</th>\n",
       "      <th>p-val</th>\n",
       "      <th>power</th>\n",
       "    </tr>\n",
       "  </thead>\n",
       "  <tbody>\n",
       "    <tr>\n",
       "      <th>spearman</th>\n",
       "      <td>90</td>\n",
       "      <td>0.871589</td>\n",
       "      <td>[0.81, 0.91]</td>\n",
       "      <td>5.525696e-29</td>\n",
       "      <td>1.0</td>\n",
       "    </tr>\n",
       "  </tbody>\n",
       "</table>\n",
       "</div>"
      ],
      "text/plain": [
       "           n         r         CI95%         p-val  power\n",
       "spearman  90  0.871589  [0.81, 0.91]  5.525696e-29    1.0"
      ]
     },
     "execution_count": 138,
     "metadata": {},
     "output_type": "execute_result"
    }
   ],
   "source": [
    "pg.corr(df90d.ethPrice, df90d.indexPrice, method='spearman')"
   ]
  },
  {
   "cell_type": "markdown",
   "id": "5ab3c8be-0815-491f-b732-1fe8e1a7358c",
   "metadata": {},
   "source": [
    "# Rolling sum trading vol"
   ]
  },
  {
   "cell_type": "markdown",
   "id": "5c69f4de-35b7-42c0-b777-b42805cb86f9",
   "metadata": {},
   "source": [
    "## 7 day"
   ]
  },
  {
   "cell_type": "code",
   "execution_count": 151,
   "id": "909cf166-5c20-4f48-99bd-7b01a330ba5c",
   "metadata": {},
   "outputs": [],
   "source": [
    "mainDf['rolling7dayTotalVolume'] = mainDf['indexTotalVolume'].rolling(7).sum()"
   ]
  },
  {
   "cell_type": "code",
   "execution_count": 174,
   "id": "9e96b95e-d056-457c-9552-29c1d6115304",
   "metadata": {},
   "outputs": [
    {
     "data": {
      "text/html": [
       "<div>\n",
       "<style scoped>\n",
       "    .dataframe tbody tr th:only-of-type {\n",
       "        vertical-align: middle;\n",
       "    }\n",
       "\n",
       "    .dataframe tbody tr th {\n",
       "        vertical-align: top;\n",
       "    }\n",
       "\n",
       "    .dataframe thead th {\n",
       "        text-align: right;\n",
       "    }\n",
       "</style>\n",
       "<table border=\"1\" class=\"dataframe\">\n",
       "  <thead>\n",
       "    <tr style=\"text-align: right;\">\n",
       "      <th></th>\n",
       "      <th>date</th>\n",
       "      <th>rolling7dayTotalVolume</th>\n",
       "    </tr>\n",
       "  </thead>\n",
       "  <tbody>\n",
       "    <tr>\n",
       "      <th>276</th>\n",
       "      <td>2021-07-09</td>\n",
       "      <td>2.698948e+06</td>\n",
       "    </tr>\n",
       "    <tr>\n",
       "      <th>277</th>\n",
       "      <td>2021-07-10</td>\n",
       "      <td>2.539769e+06</td>\n",
       "    </tr>\n",
       "    <tr>\n",
       "      <th>278</th>\n",
       "      <td>2021-07-11</td>\n",
       "      <td>2.309264e+06</td>\n",
       "    </tr>\n",
       "    <tr>\n",
       "      <th>279</th>\n",
       "      <td>2021-07-12</td>\n",
       "      <td>1.975311e+06</td>\n",
       "    </tr>\n",
       "    <tr>\n",
       "      <th>280</th>\n",
       "      <td>2021-07-13</td>\n",
       "      <td>1.746115e+06</td>\n",
       "    </tr>\n",
       "    <tr>\n",
       "      <th>281</th>\n",
       "      <td>2021-07-14</td>\n",
       "      <td>1.237540e+06</td>\n",
       "    </tr>\n",
       "    <tr>\n",
       "      <th>282</th>\n",
       "      <td>2021-07-15</td>\n",
       "      <td>1.341730e+06</td>\n",
       "    </tr>\n",
       "    <tr>\n",
       "      <th>283</th>\n",
       "      <td>2021-07-16</td>\n",
       "      <td>1.333121e+06</td>\n",
       "    </tr>\n",
       "    <tr>\n",
       "      <th>284</th>\n",
       "      <td>2021-07-17</td>\n",
       "      <td>1.196854e+06</td>\n",
       "    </tr>\n",
       "    <tr>\n",
       "      <th>285</th>\n",
       "      <td>2021-07-18</td>\n",
       "      <td>1.050652e+06</td>\n",
       "    </tr>\n",
       "    <tr>\n",
       "      <th>286</th>\n",
       "      <td>2021-07-19</td>\n",
       "      <td>1.129065e+06</td>\n",
       "    </tr>\n",
       "    <tr>\n",
       "      <th>287</th>\n",
       "      <td>2021-07-20</td>\n",
       "      <td>1.098374e+06</td>\n",
       "    </tr>\n",
       "    <tr>\n",
       "      <th>288</th>\n",
       "      <td>2021-07-21</td>\n",
       "      <td>1.199677e+06</td>\n",
       "    </tr>\n",
       "    <tr>\n",
       "      <th>289</th>\n",
       "      <td>2021-07-22</td>\n",
       "      <td>1.465111e+06</td>\n",
       "    </tr>\n",
       "    <tr>\n",
       "      <th>290</th>\n",
       "      <td>2021-07-23</td>\n",
       "      <td>1.640073e+06</td>\n",
       "    </tr>\n",
       "    <tr>\n",
       "      <th>291</th>\n",
       "      <td>2021-07-24</td>\n",
       "      <td>1.717873e+06</td>\n",
       "    </tr>\n",
       "    <tr>\n",
       "      <th>292</th>\n",
       "      <td>2021-07-25</td>\n",
       "      <td>1.706153e+06</td>\n",
       "    </tr>\n",
       "    <tr>\n",
       "      <th>293</th>\n",
       "      <td>2021-07-26</td>\n",
       "      <td>1.640794e+06</td>\n",
       "    </tr>\n",
       "    <tr>\n",
       "      <th>294</th>\n",
       "      <td>2021-07-27</td>\n",
       "      <td>1.578259e+06</td>\n",
       "    </tr>\n",
       "    <tr>\n",
       "      <th>295</th>\n",
       "      <td>2021-07-28</td>\n",
       "      <td>1.365354e+06</td>\n",
       "    </tr>\n",
       "    <tr>\n",
       "      <th>296</th>\n",
       "      <td>2021-07-29</td>\n",
       "      <td>1.335682e+06</td>\n",
       "    </tr>\n",
       "    <tr>\n",
       "      <th>297</th>\n",
       "      <td>2021-07-30</td>\n",
       "      <td>1.486820e+06</td>\n",
       "    </tr>\n",
       "    <tr>\n",
       "      <th>298</th>\n",
       "      <td>2021-07-31</td>\n",
       "      <td>1.428631e+06</td>\n",
       "    </tr>\n",
       "    <tr>\n",
       "      <th>299</th>\n",
       "      <td>2021-08-01</td>\n",
       "      <td>1.796962e+06</td>\n",
       "    </tr>\n",
       "    <tr>\n",
       "      <th>300</th>\n",
       "      <td>2021-08-02</td>\n",
       "      <td>1.775152e+06</td>\n",
       "    </tr>\n",
       "    <tr>\n",
       "      <th>301</th>\n",
       "      <td>2021-08-03</td>\n",
       "      <td>1.755381e+06</td>\n",
       "    </tr>\n",
       "    <tr>\n",
       "      <th>302</th>\n",
       "      <td>2021-08-04</td>\n",
       "      <td>2.124767e+06</td>\n",
       "    </tr>\n",
       "    <tr>\n",
       "      <th>303</th>\n",
       "      <td>2021-08-05</td>\n",
       "      <td>1.934195e+06</td>\n",
       "    </tr>\n",
       "    <tr>\n",
       "      <th>304</th>\n",
       "      <td>2021-08-06</td>\n",
       "      <td>2.017227e+06</td>\n",
       "    </tr>\n",
       "    <tr>\n",
       "      <th>305</th>\n",
       "      <td>2021-08-07</td>\n",
       "      <td>2.403923e+06</td>\n",
       "    </tr>\n",
       "  </tbody>\n",
       "</table>\n",
       "</div>"
      ],
      "text/plain": [
       "           date  rolling7dayTotalVolume\n",
       "276  2021-07-09            2.698948e+06\n",
       "277  2021-07-10            2.539769e+06\n",
       "278  2021-07-11            2.309264e+06\n",
       "279  2021-07-12            1.975311e+06\n",
       "280  2021-07-13            1.746115e+06\n",
       "281  2021-07-14            1.237540e+06\n",
       "282  2021-07-15            1.341730e+06\n",
       "283  2021-07-16            1.333121e+06\n",
       "284  2021-07-17            1.196854e+06\n",
       "285  2021-07-18            1.050652e+06\n",
       "286  2021-07-19            1.129065e+06\n",
       "287  2021-07-20            1.098374e+06\n",
       "288  2021-07-21            1.199677e+06\n",
       "289  2021-07-22            1.465111e+06\n",
       "290  2021-07-23            1.640073e+06\n",
       "291  2021-07-24            1.717873e+06\n",
       "292  2021-07-25            1.706153e+06\n",
       "293  2021-07-26            1.640794e+06\n",
       "294  2021-07-27            1.578259e+06\n",
       "295  2021-07-28            1.365354e+06\n",
       "296  2021-07-29            1.335682e+06\n",
       "297  2021-07-30            1.486820e+06\n",
       "298  2021-07-31            1.428631e+06\n",
       "299  2021-08-01            1.796962e+06\n",
       "300  2021-08-02            1.775152e+06\n",
       "301  2021-08-03            1.755381e+06\n",
       "302  2021-08-04            2.124767e+06\n",
       "303  2021-08-05            1.934195e+06\n",
       "304  2021-08-06            2.017227e+06\n",
       "305  2021-08-07            2.403923e+06"
      ]
     },
     "execution_count": 174,
     "metadata": {},
     "output_type": "execute_result"
    }
   ],
   "source": [
    "mainDf[['date', 'rolling7dayTotalVolume']].iloc[-30:,:]"
   ]
  },
  {
   "cell_type": "markdown",
   "id": "0efa8fe4-38a1-4ce8-b6be-b71599026de6",
   "metadata": {
    "tags": []
   },
   "source": [
    "## 30 day"
   ]
  },
  {
   "cell_type": "code",
   "execution_count": 175,
   "id": "b45a9bfe-ac06-4aa7-af19-bd058588b6e8",
   "metadata": {},
   "outputs": [],
   "source": [
    "mainDf['rolling30dayTotalVolume'] = mainDf['indexTotalVolume'].rolling(30).sum()"
   ]
  },
  {
   "cell_type": "code",
   "execution_count": 176,
   "id": "e9e152b2-9463-4334-b8ea-fcabd015e688",
   "metadata": {},
   "outputs": [
    {
     "data": {
      "text/html": [
       "<div>\n",
       "<style scoped>\n",
       "    .dataframe tbody tr th:only-of-type {\n",
       "        vertical-align: middle;\n",
       "    }\n",
       "\n",
       "    .dataframe tbody tr th {\n",
       "        vertical-align: top;\n",
       "    }\n",
       "\n",
       "    .dataframe thead th {\n",
       "        text-align: right;\n",
       "    }\n",
       "</style>\n",
       "<table border=\"1\" class=\"dataframe\">\n",
       "  <thead>\n",
       "    <tr style=\"text-align: right;\">\n",
       "      <th></th>\n",
       "      <th>date</th>\n",
       "      <th>rolling30dayTotalVolume</th>\n",
       "    </tr>\n",
       "  </thead>\n",
       "  <tbody>\n",
       "    <tr>\n",
       "      <th>276</th>\n",
       "      <td>2021-07-09</td>\n",
       "      <td>1.225826e+07</td>\n",
       "    </tr>\n",
       "    <tr>\n",
       "      <th>277</th>\n",
       "      <td>2021-07-10</td>\n",
       "      <td>1.166529e+07</td>\n",
       "    </tr>\n",
       "    <tr>\n",
       "      <th>278</th>\n",
       "      <td>2021-07-11</td>\n",
       "      <td>1.139324e+07</td>\n",
       "    </tr>\n",
       "    <tr>\n",
       "      <th>279</th>\n",
       "      <td>2021-07-12</td>\n",
       "      <td>1.099123e+07</td>\n",
       "    </tr>\n",
       "    <tr>\n",
       "      <th>280</th>\n",
       "      <td>2021-07-13</td>\n",
       "      <td>1.113834e+07</td>\n",
       "    </tr>\n",
       "    <tr>\n",
       "      <th>281</th>\n",
       "      <td>2021-07-14</td>\n",
       "      <td>1.065331e+07</td>\n",
       "    </tr>\n",
       "    <tr>\n",
       "      <th>282</th>\n",
       "      <td>2021-07-15</td>\n",
       "      <td>1.026790e+07</td>\n",
       "    </tr>\n",
       "    <tr>\n",
       "      <th>283</th>\n",
       "      <td>2021-07-16</td>\n",
       "      <td>9.805584e+06</td>\n",
       "    </tr>\n",
       "    <tr>\n",
       "      <th>284</th>\n",
       "      <td>2021-07-17</td>\n",
       "      <td>9.438391e+06</td>\n",
       "    </tr>\n",
       "    <tr>\n",
       "      <th>285</th>\n",
       "      <td>2021-07-18</td>\n",
       "      <td>9.069705e+06</td>\n",
       "    </tr>\n",
       "    <tr>\n",
       "      <th>286</th>\n",
       "      <td>2021-07-19</td>\n",
       "      <td>8.764880e+06</td>\n",
       "    </tr>\n",
       "    <tr>\n",
       "      <th>287</th>\n",
       "      <td>2021-07-20</td>\n",
       "      <td>8.545100e+06</td>\n",
       "    </tr>\n",
       "    <tr>\n",
       "      <th>288</th>\n",
       "      <td>2021-07-21</td>\n",
       "      <td>8.541139e+06</td>\n",
       "    </tr>\n",
       "    <tr>\n",
       "      <th>289</th>\n",
       "      <td>2021-07-22</td>\n",
       "      <td>8.644893e+06</td>\n",
       "    </tr>\n",
       "    <tr>\n",
       "      <th>290</th>\n",
       "      <td>2021-07-23</td>\n",
       "      <td>8.906059e+06</td>\n",
       "    </tr>\n",
       "    <tr>\n",
       "      <th>291</th>\n",
       "      <td>2021-07-24</td>\n",
       "      <td>8.707574e+06</td>\n",
       "    </tr>\n",
       "    <tr>\n",
       "      <th>292</th>\n",
       "      <td>2021-07-25</td>\n",
       "      <td>8.401694e+06</td>\n",
       "    </tr>\n",
       "    <tr>\n",
       "      <th>293</th>\n",
       "      <td>2021-07-26</td>\n",
       "      <td>8.154472e+06</td>\n",
       "    </tr>\n",
       "    <tr>\n",
       "      <th>294</th>\n",
       "      <td>2021-07-27</td>\n",
       "      <td>7.894898e+06</td>\n",
       "    </tr>\n",
       "    <tr>\n",
       "      <th>295</th>\n",
       "      <td>2021-07-28</td>\n",
       "      <td>7.727925e+06</td>\n",
       "    </tr>\n",
       "    <tr>\n",
       "      <th>296</th>\n",
       "      <td>2021-07-29</td>\n",
       "      <td>7.618228e+06</td>\n",
       "    </tr>\n",
       "    <tr>\n",
       "      <th>297</th>\n",
       "      <td>2021-07-30</td>\n",
       "      <td>7.626304e+06</td>\n",
       "    </tr>\n",
       "    <tr>\n",
       "      <th>298</th>\n",
       "      <td>2021-07-31</td>\n",
       "      <td>7.399758e+06</td>\n",
       "    </tr>\n",
       "    <tr>\n",
       "      <th>299</th>\n",
       "      <td>2021-08-01</td>\n",
       "      <td>7.741210e+06</td>\n",
       "    </tr>\n",
       "    <tr>\n",
       "      <th>300</th>\n",
       "      <td>2021-08-02</td>\n",
       "      <td>7.408280e+06</td>\n",
       "    </tr>\n",
       "    <tr>\n",
       "      <th>301</th>\n",
       "      <td>2021-08-03</td>\n",
       "      <td>7.006039e+06</td>\n",
       "    </tr>\n",
       "    <tr>\n",
       "      <th>302</th>\n",
       "      <td>2021-08-04</td>\n",
       "      <td>7.145140e+06</td>\n",
       "    </tr>\n",
       "    <tr>\n",
       "      <th>303</th>\n",
       "      <td>2021-08-05</td>\n",
       "      <td>6.941631e+06</td>\n",
       "    </tr>\n",
       "    <tr>\n",
       "      <th>304</th>\n",
       "      <td>2021-08-06</td>\n",
       "      <td>6.691848e+06</td>\n",
       "    </tr>\n",
       "    <tr>\n",
       "      <th>305</th>\n",
       "      <td>2021-08-07</td>\n",
       "      <td>7.094629e+06</td>\n",
       "    </tr>\n",
       "  </tbody>\n",
       "</table>\n",
       "</div>"
      ],
      "text/plain": [
       "           date  rolling30dayTotalVolume\n",
       "276  2021-07-09             1.225826e+07\n",
       "277  2021-07-10             1.166529e+07\n",
       "278  2021-07-11             1.139324e+07\n",
       "279  2021-07-12             1.099123e+07\n",
       "280  2021-07-13             1.113834e+07\n",
       "281  2021-07-14             1.065331e+07\n",
       "282  2021-07-15             1.026790e+07\n",
       "283  2021-07-16             9.805584e+06\n",
       "284  2021-07-17             9.438391e+06\n",
       "285  2021-07-18             9.069705e+06\n",
       "286  2021-07-19             8.764880e+06\n",
       "287  2021-07-20             8.545100e+06\n",
       "288  2021-07-21             8.541139e+06\n",
       "289  2021-07-22             8.644893e+06\n",
       "290  2021-07-23             8.906059e+06\n",
       "291  2021-07-24             8.707574e+06\n",
       "292  2021-07-25             8.401694e+06\n",
       "293  2021-07-26             8.154472e+06\n",
       "294  2021-07-27             7.894898e+06\n",
       "295  2021-07-28             7.727925e+06\n",
       "296  2021-07-29             7.618228e+06\n",
       "297  2021-07-30             7.626304e+06\n",
       "298  2021-07-31             7.399758e+06\n",
       "299  2021-08-01             7.741210e+06\n",
       "300  2021-08-02             7.408280e+06\n",
       "301  2021-08-03             7.006039e+06\n",
       "302  2021-08-04             7.145140e+06\n",
       "303  2021-08-05             6.941631e+06\n",
       "304  2021-08-06             6.691848e+06\n",
       "305  2021-08-07             7.094629e+06"
      ]
     },
     "execution_count": 176,
     "metadata": {},
     "output_type": "execute_result"
    }
   ],
   "source": [
    "mainDf[['date', 'rolling30dayTotalVolume']].iloc[-30:,:]"
   ]
  },
  {
   "cell_type": "markdown",
   "id": "453f3831-b6aa-4ace-bca9-357a2e92fa27",
   "metadata": {},
   "source": [
    "# Rolling average trading vol"
   ]
  },
  {
   "cell_type": "markdown",
   "id": "bc5ba7e6-256d-4797-8474-79e0f01d4267",
   "metadata": {},
   "source": [
    "## 7 day"
   ]
  },
  {
   "cell_type": "code",
   "execution_count": 177,
   "id": "d43527ef-0fa2-4392-850b-30c0363e0d6d",
   "metadata": {},
   "outputs": [],
   "source": [
    "mainDf['rolling7dayMeanVolume'] = mainDf['indexTotalVolume'].rolling(7).mean()"
   ]
  },
  {
   "cell_type": "code",
   "execution_count": 178,
   "id": "eca962ce-9c35-4b3d-b57c-34e4f9db1b5f",
   "metadata": {},
   "outputs": [
    {
     "data": {
      "text/html": [
       "<div>\n",
       "<style scoped>\n",
       "    .dataframe tbody tr th:only-of-type {\n",
       "        vertical-align: middle;\n",
       "    }\n",
       "\n",
       "    .dataframe tbody tr th {\n",
       "        vertical-align: top;\n",
       "    }\n",
       "\n",
       "    .dataframe thead th {\n",
       "        text-align: right;\n",
       "    }\n",
       "</style>\n",
       "<table border=\"1\" class=\"dataframe\">\n",
       "  <thead>\n",
       "    <tr style=\"text-align: right;\">\n",
       "      <th></th>\n",
       "      <th>date</th>\n",
       "      <th>rolling7dayMeanVolume</th>\n",
       "    </tr>\n",
       "  </thead>\n",
       "  <tbody>\n",
       "    <tr>\n",
       "      <th>276</th>\n",
       "      <td>2021-07-09</td>\n",
       "      <td>385564.010081</td>\n",
       "    </tr>\n",
       "    <tr>\n",
       "      <th>277</th>\n",
       "      <td>2021-07-10</td>\n",
       "      <td>362824.100422</td>\n",
       "    </tr>\n",
       "    <tr>\n",
       "      <th>278</th>\n",
       "      <td>2021-07-11</td>\n",
       "      <td>329894.905019</td>\n",
       "    </tr>\n",
       "    <tr>\n",
       "      <th>279</th>\n",
       "      <td>2021-07-12</td>\n",
       "      <td>282187.228170</td>\n",
       "    </tr>\n",
       "    <tr>\n",
       "      <th>280</th>\n",
       "      <td>2021-07-13</td>\n",
       "      <td>249444.965204</td>\n",
       "    </tr>\n",
       "    <tr>\n",
       "      <th>281</th>\n",
       "      <td>2021-07-14</td>\n",
       "      <td>176791.473145</td>\n",
       "    </tr>\n",
       "    <tr>\n",
       "      <th>282</th>\n",
       "      <td>2021-07-15</td>\n",
       "      <td>191675.744376</td>\n",
       "    </tr>\n",
       "    <tr>\n",
       "      <th>283</th>\n",
       "      <td>2021-07-16</td>\n",
       "      <td>190445.811128</td>\n",
       "    </tr>\n",
       "    <tr>\n",
       "      <th>284</th>\n",
       "      <td>2021-07-17</td>\n",
       "      <td>170979.144331</td>\n",
       "    </tr>\n",
       "    <tr>\n",
       "      <th>285</th>\n",
       "      <td>2021-07-18</td>\n",
       "      <td>150093.214022</td>\n",
       "    </tr>\n",
       "    <tr>\n",
       "      <th>286</th>\n",
       "      <td>2021-07-19</td>\n",
       "      <td>161295.069791</td>\n",
       "    </tr>\n",
       "    <tr>\n",
       "      <th>287</th>\n",
       "      <td>2021-07-20</td>\n",
       "      <td>156910.602960</td>\n",
       "    </tr>\n",
       "    <tr>\n",
       "      <th>288</th>\n",
       "      <td>2021-07-21</td>\n",
       "      <td>171382.406356</td>\n",
       "    </tr>\n",
       "    <tr>\n",
       "      <th>289</th>\n",
       "      <td>2021-07-22</td>\n",
       "      <td>209301.549981</td>\n",
       "    </tr>\n",
       "    <tr>\n",
       "      <th>290</th>\n",
       "      <td>2021-07-23</td>\n",
       "      <td>234296.160301</td>\n",
       "    </tr>\n",
       "    <tr>\n",
       "      <th>291</th>\n",
       "      <td>2021-07-24</td>\n",
       "      <td>245410.383140</td>\n",
       "    </tr>\n",
       "    <tr>\n",
       "      <th>292</th>\n",
       "      <td>2021-07-25</td>\n",
       "      <td>243736.077611</td>\n",
       "    </tr>\n",
       "    <tr>\n",
       "      <th>293</th>\n",
       "      <td>2021-07-26</td>\n",
       "      <td>234399.200636</td>\n",
       "    </tr>\n",
       "    <tr>\n",
       "      <th>294</th>\n",
       "      <td>2021-07-27</td>\n",
       "      <td>225465.572702</td>\n",
       "    </tr>\n",
       "    <tr>\n",
       "      <th>295</th>\n",
       "      <td>2021-07-28</td>\n",
       "      <td>195050.626738</td>\n",
       "    </tr>\n",
       "    <tr>\n",
       "      <th>296</th>\n",
       "      <td>2021-07-29</td>\n",
       "      <td>190811.650996</td>\n",
       "    </tr>\n",
       "    <tr>\n",
       "      <th>297</th>\n",
       "      <td>2021-07-30</td>\n",
       "      <td>212402.861692</td>\n",
       "    </tr>\n",
       "    <tr>\n",
       "      <th>298</th>\n",
       "      <td>2021-07-31</td>\n",
       "      <td>204090.150413</td>\n",
       "    </tr>\n",
       "    <tr>\n",
       "      <th>299</th>\n",
       "      <td>2021-08-01</td>\n",
       "      <td>256708.831196</td>\n",
       "    </tr>\n",
       "    <tr>\n",
       "      <th>300</th>\n",
       "      <td>2021-08-02</td>\n",
       "      <td>253593.099270</td>\n",
       "    </tr>\n",
       "    <tr>\n",
       "      <th>301</th>\n",
       "      <td>2021-08-03</td>\n",
       "      <td>250768.703586</td>\n",
       "    </tr>\n",
       "    <tr>\n",
       "      <th>302</th>\n",
       "      <td>2021-08-04</td>\n",
       "      <td>303538.079758</td>\n",
       "    </tr>\n",
       "    <tr>\n",
       "      <th>303</th>\n",
       "      <td>2021-08-05</td>\n",
       "      <td>276313.610322</td>\n",
       "    </tr>\n",
       "    <tr>\n",
       "      <th>304</th>\n",
       "      <td>2021-08-06</td>\n",
       "      <td>288175.285819</td>\n",
       "    </tr>\n",
       "    <tr>\n",
       "      <th>305</th>\n",
       "      <td>2021-08-07</td>\n",
       "      <td>343417.600452</td>\n",
       "    </tr>\n",
       "  </tbody>\n",
       "</table>\n",
       "</div>"
      ],
      "text/plain": [
       "           date  rolling7dayMeanVolume\n",
       "276  2021-07-09          385564.010081\n",
       "277  2021-07-10          362824.100422\n",
       "278  2021-07-11          329894.905019\n",
       "279  2021-07-12          282187.228170\n",
       "280  2021-07-13          249444.965204\n",
       "281  2021-07-14          176791.473145\n",
       "282  2021-07-15          191675.744376\n",
       "283  2021-07-16          190445.811128\n",
       "284  2021-07-17          170979.144331\n",
       "285  2021-07-18          150093.214022\n",
       "286  2021-07-19          161295.069791\n",
       "287  2021-07-20          156910.602960\n",
       "288  2021-07-21          171382.406356\n",
       "289  2021-07-22          209301.549981\n",
       "290  2021-07-23          234296.160301\n",
       "291  2021-07-24          245410.383140\n",
       "292  2021-07-25          243736.077611\n",
       "293  2021-07-26          234399.200636\n",
       "294  2021-07-27          225465.572702\n",
       "295  2021-07-28          195050.626738\n",
       "296  2021-07-29          190811.650996\n",
       "297  2021-07-30          212402.861692\n",
       "298  2021-07-31          204090.150413\n",
       "299  2021-08-01          256708.831196\n",
       "300  2021-08-02          253593.099270\n",
       "301  2021-08-03          250768.703586\n",
       "302  2021-08-04          303538.079758\n",
       "303  2021-08-05          276313.610322\n",
       "304  2021-08-06          288175.285819\n",
       "305  2021-08-07          343417.600452"
      ]
     },
     "execution_count": 178,
     "metadata": {},
     "output_type": "execute_result"
    }
   ],
   "source": [
    "mainDf[['date', 'rolling7dayMeanVolume']].iloc[-30:,:]"
   ]
  },
  {
   "cell_type": "markdown",
   "id": "eee74645-4280-4944-a22d-938862e7cafa",
   "metadata": {
    "tags": []
   },
   "source": [
    "## 30 day"
   ]
  },
  {
   "cell_type": "code",
   "execution_count": 180,
   "id": "2d4b7bbb-5db4-42f7-8524-76c009553e49",
   "metadata": {},
   "outputs": [],
   "source": [
    "mainDf['rolling30dayMeanVolume'] = mainDf['indexTotalVolume'].rolling(30).mean()"
   ]
  },
  {
   "cell_type": "code",
   "execution_count": 181,
   "id": "2a8dd783-0b28-4650-ace3-485edca4e4cf",
   "metadata": {},
   "outputs": [
    {
     "data": {
      "text/html": [
       "<div>\n",
       "<style scoped>\n",
       "    .dataframe tbody tr th:only-of-type {\n",
       "        vertical-align: middle;\n",
       "    }\n",
       "\n",
       "    .dataframe tbody tr th {\n",
       "        vertical-align: top;\n",
       "    }\n",
       "\n",
       "    .dataframe thead th {\n",
       "        text-align: right;\n",
       "    }\n",
       "</style>\n",
       "<table border=\"1\" class=\"dataframe\">\n",
       "  <thead>\n",
       "    <tr style=\"text-align: right;\">\n",
       "      <th></th>\n",
       "      <th>date</th>\n",
       "      <th>rolling30dayMeanVolume</th>\n",
       "    </tr>\n",
       "  </thead>\n",
       "  <tbody>\n",
       "    <tr>\n",
       "      <th>276</th>\n",
       "      <td>2021-07-09</td>\n",
       "      <td>408608.530101</td>\n",
       "    </tr>\n",
       "    <tr>\n",
       "      <th>277</th>\n",
       "      <td>2021-07-10</td>\n",
       "      <td>388843.015330</td>\n",
       "    </tr>\n",
       "    <tr>\n",
       "      <th>278</th>\n",
       "      <td>2021-07-11</td>\n",
       "      <td>379774.627058</td>\n",
       "    </tr>\n",
       "    <tr>\n",
       "      <th>279</th>\n",
       "      <td>2021-07-12</td>\n",
       "      <td>366374.322323</td>\n",
       "    </tr>\n",
       "    <tr>\n",
       "      <th>280</th>\n",
       "      <td>2021-07-13</td>\n",
       "      <td>371277.965951</td>\n",
       "    </tr>\n",
       "    <tr>\n",
       "      <th>281</th>\n",
       "      <td>2021-07-14</td>\n",
       "      <td>355110.215699</td>\n",
       "    </tr>\n",
       "    <tr>\n",
       "      <th>282</th>\n",
       "      <td>2021-07-15</td>\n",
       "      <td>342263.332681</td>\n",
       "    </tr>\n",
       "    <tr>\n",
       "      <th>283</th>\n",
       "      <td>2021-07-16</td>\n",
       "      <td>326852.797506</td>\n",
       "    </tr>\n",
       "    <tr>\n",
       "      <th>284</th>\n",
       "      <td>2021-07-17</td>\n",
       "      <td>314613.035807</td>\n",
       "    </tr>\n",
       "    <tr>\n",
       "      <th>285</th>\n",
       "      <td>2021-07-18</td>\n",
       "      <td>302323.514908</td>\n",
       "    </tr>\n",
       "    <tr>\n",
       "      <th>286</th>\n",
       "      <td>2021-07-19</td>\n",
       "      <td>292162.679374</td>\n",
       "    </tr>\n",
       "    <tr>\n",
       "      <th>287</th>\n",
       "      <td>2021-07-20</td>\n",
       "      <td>284836.676156</td>\n",
       "    </tr>\n",
       "    <tr>\n",
       "      <th>288</th>\n",
       "      <td>2021-07-21</td>\n",
       "      <td>284704.640499</td>\n",
       "    </tr>\n",
       "    <tr>\n",
       "      <th>289</th>\n",
       "      <td>2021-07-22</td>\n",
       "      <td>288163.105224</td>\n",
       "    </tr>\n",
       "    <tr>\n",
       "      <th>290</th>\n",
       "      <td>2021-07-23</td>\n",
       "      <td>296868.638836</td>\n",
       "    </tr>\n",
       "    <tr>\n",
       "      <th>291</th>\n",
       "      <td>2021-07-24</td>\n",
       "      <td>290252.452608</td>\n",
       "    </tr>\n",
       "    <tr>\n",
       "      <th>292</th>\n",
       "      <td>2021-07-25</td>\n",
       "      <td>280056.452789</td>\n",
       "    </tr>\n",
       "    <tr>\n",
       "      <th>293</th>\n",
       "      <td>2021-07-26</td>\n",
       "      <td>271815.732316</td>\n",
       "    </tr>\n",
       "    <tr>\n",
       "      <th>294</th>\n",
       "      <td>2021-07-27</td>\n",
       "      <td>263163.258644</td>\n",
       "    </tr>\n",
       "    <tr>\n",
       "      <th>295</th>\n",
       "      <td>2021-07-28</td>\n",
       "      <td>257597.511661</td>\n",
       "    </tr>\n",
       "    <tr>\n",
       "      <th>296</th>\n",
       "      <td>2021-07-29</td>\n",
       "      <td>253940.936889</td>\n",
       "    </tr>\n",
       "    <tr>\n",
       "      <th>297</th>\n",
       "      <td>2021-07-30</td>\n",
       "      <td>254210.140612</td>\n",
       "    </tr>\n",
       "    <tr>\n",
       "      <th>298</th>\n",
       "      <td>2021-07-31</td>\n",
       "      <td>246658.605250</td>\n",
       "    </tr>\n",
       "    <tr>\n",
       "      <th>299</th>\n",
       "      <td>2021-08-01</td>\n",
       "      <td>258040.329430</td>\n",
       "    </tr>\n",
       "    <tr>\n",
       "      <th>300</th>\n",
       "      <td>2021-08-02</td>\n",
       "      <td>246942.650750</td>\n",
       "    </tr>\n",
       "    <tr>\n",
       "      <th>301</th>\n",
       "      <td>2021-08-03</td>\n",
       "      <td>233534.619279</td>\n",
       "    </tr>\n",
       "    <tr>\n",
       "      <th>302</th>\n",
       "      <td>2021-08-04</td>\n",
       "      <td>238171.348889</td>\n",
       "    </tr>\n",
       "    <tr>\n",
       "      <th>303</th>\n",
       "      <td>2021-08-05</td>\n",
       "      <td>231387.689147</td>\n",
       "    </tr>\n",
       "    <tr>\n",
       "      <th>304</th>\n",
       "      <td>2021-08-06</td>\n",
       "      <td>223061.616330</td>\n",
       "    </tr>\n",
       "    <tr>\n",
       "      <th>305</th>\n",
       "      <td>2021-08-07</td>\n",
       "      <td>236487.640752</td>\n",
       "    </tr>\n",
       "  </tbody>\n",
       "</table>\n",
       "</div>"
      ],
      "text/plain": [
       "           date  rolling30dayMeanVolume\n",
       "276  2021-07-09           408608.530101\n",
       "277  2021-07-10           388843.015330\n",
       "278  2021-07-11           379774.627058\n",
       "279  2021-07-12           366374.322323\n",
       "280  2021-07-13           371277.965951\n",
       "281  2021-07-14           355110.215699\n",
       "282  2021-07-15           342263.332681\n",
       "283  2021-07-16           326852.797506\n",
       "284  2021-07-17           314613.035807\n",
       "285  2021-07-18           302323.514908\n",
       "286  2021-07-19           292162.679374\n",
       "287  2021-07-20           284836.676156\n",
       "288  2021-07-21           284704.640499\n",
       "289  2021-07-22           288163.105224\n",
       "290  2021-07-23           296868.638836\n",
       "291  2021-07-24           290252.452608\n",
       "292  2021-07-25           280056.452789\n",
       "293  2021-07-26           271815.732316\n",
       "294  2021-07-27           263163.258644\n",
       "295  2021-07-28           257597.511661\n",
       "296  2021-07-29           253940.936889\n",
       "297  2021-07-30           254210.140612\n",
       "298  2021-07-31           246658.605250\n",
       "299  2021-08-01           258040.329430\n",
       "300  2021-08-02           246942.650750\n",
       "301  2021-08-03           233534.619279\n",
       "302  2021-08-04           238171.348889\n",
       "303  2021-08-05           231387.689147\n",
       "304  2021-08-06           223061.616330\n",
       "305  2021-08-07           236487.640752"
      ]
     },
     "execution_count": 181,
     "metadata": {},
     "output_type": "execute_result"
    }
   ],
   "source": [
    "mainDf[['date', 'rolling30dayMeanVolume']].iloc[-30:,:]"
   ]
  },
  {
   "cell_type": "code",
   "execution_count": 183,
   "id": "818b2cca-0e2b-42b7-8f4f-7d31dafc340f",
   "metadata": {},
   "outputs": [],
   "source": [
    "mainDf.to_csv('indexKPI.csv',index=False)"
   ]
  }
 ],
 "metadata": {
  "kernelspec": {
   "display_name": "Python 3 (ipykernel)",
   "language": "python",
   "name": "python3"
  },
  "language_info": {
   "codemirror_mode": {
    "name": "ipython",
    "version": 3
   },
   "file_extension": ".py",
   "mimetype": "text/x-python",
   "name": "python",
   "nbconvert_exporter": "python",
   "pygments_lexer": "ipython3",
   "version": "3.9.6"
  }
 },
 "nbformat": 4,
 "nbformat_minor": 5
}
