{
 "cells": [
  {
   "cell_type": "code",
   "execution_count": 1,
   "id": "7ced0c89-59ce-4811-a9d0-582423a291e8",
   "metadata": {},
   "outputs": [],
   "source": [
    "import requests\n",
    "import json\n",
    "import pandas as pd\n",
    "import matplotlib.pyplot as plt"
   ]
  },
  {
   "cell_type": "markdown",
   "id": "71803e6b-051d-447b-af62-15699c8b00bf",
   "metadata": {},
   "source": [
    "# Functions"
   ]
  },
  {
   "cell_type": "code",
   "execution_count": 2,
   "id": "6ad162e3-8d06-4440-98fa-192ba7478320",
   "metadata": {},
   "outputs": [],
   "source": [
    "def make_vote_df_from_proposal_id(proposal_id):\n",
    "    url = 'https://hub.snapshot.org/graphql/'\n",
    "    vote_query = create_vote_query(proposal_id)\n",
    "    vote_response = requests.post(url, json={'query': vote_query})\n",
    "    print(proposal_response.status_code,proposal_response.reason,proposal_id)\n",
    "    vote_json = vote_response.json()\n",
    "    vote_df = vote_json_to_df(vote_json)\n",
    "    return vote_df\n",
    "    \n",
    "def create_vote_query(proposal_id):\n",
    "    vote_query = '''\n",
    "    query Votes {\n",
    "      votes (\n",
    "        first: 9999999\n",
    "        skip: 0\n",
    "        where: {\n",
    "          proposal: \"'''+ proposal_id + '''\"\n",
    "        }\n",
    "        orderBy: \"created\",\n",
    "        orderDirection: desc\n",
    "      ) {\n",
    "        id\n",
    "        ipfs\n",
    "        voter\n",
    "        created\n",
    "        space {\n",
    "          id\n",
    "        }\n",
    "        proposal {\n",
    "          id\n",
    "        }\n",
    "        choice\n",
    "        metadata\n",
    "        vp\n",
    "        vp_by_strategy\n",
    "        vp_state\n",
    "      }\n",
    "    }\n",
    "    '''\n",
    "    return vote_query\n",
    "def vote_json_to_df(vote_json):\n",
    "    row_as_series_list=[]\n",
    "    for vote in vote_json['data']['votes']:\n",
    "        id = vote['id']\n",
    "        ipfs = vote['ipfs']\n",
    "        voter = vote['voter']\n",
    "        created = vote['created']\n",
    "        space = vote['space']['id']\n",
    "        proposal = vote['proposal']['id']\n",
    "        choice = vote['choice']\n",
    "        #metadata = vote['metadata']: {},\n",
    "        vp = vote['vp']\n",
    "        vp_by_strategy = tuple(vote['vp_by_strategy'])\n",
    "        vp_state = vote['vp_state']\n",
    "        row_as_series  = pd.Series(\n",
    "            data=(\n",
    "                id,\n",
    "                ipfs,\n",
    "                voter,\n",
    "                created,\n",
    "                space,\n",
    "                proposal,\n",
    "                choice,\n",
    "                #metadata,\n",
    "                vp,\n",
    "                vp_by_strategy,\n",
    "                vp_state,\n",
    "                ),\n",
    "            index=(\n",
    "                'vote_id',\n",
    "                'ipfs',\n",
    "                'voter',\n",
    "                'created',\n",
    "                'space',\n",
    "                'proposal',\n",
    "                'choice',\n",
    "                #'metadata',\n",
    "                'vp',\n",
    "                'vp_by_strategy',\n",
    "                'vp_state',\n",
    "            )\n",
    "        )\n",
    "        row_as_series_list.append(row_as_series)\n",
    "    return_df = pd.DataFrame(row_as_series_list)\n",
    "    return return_df\n"
   ]
  },
  {
   "cell_type": "markdown",
   "id": "34579c29-a5f9-48d6-a18e-d4e21b776e43",
   "metadata": {},
   "source": [
    "# Querying and Dumping the Data"
   ]
  },
  {
   "cell_type": "code",
   "execution_count": 3,
   "id": "88074786-3bc1-414d-b2f6-650d5c264fee",
   "metadata": {},
   "outputs": [],
   "source": [
    "proposal_query = '''\n",
    "query Proposals {\n",
    "  proposals (\n",
    "    first: 10000000\n",
    "    where: {\n",
    "      space_in: [\"index-coop.eth\"],\n",
    "      state: \"closed\"\n",
    "    },\n",
    "    orderBy: \"created\",\n",
    "    orderDirection: desc\n",
    "  ) {\n",
    "    id\n",
    "    title\n",
    "    body\n",
    "    choices\n",
    "    start\n",
    "    end\n",
    "    snapshot\n",
    "    state\n",
    "    author\n",
    "    scores\n",
    "    scores_by_strategy\n",
    "    scores_state\n",
    "    scores_total\n",
    "    scores_updated\n",
    "    votes\n",
    "    space {\n",
    "      id\n",
    "      name\n",
    "    }\n",
    "  }\n",
    "}\n",
    "'''\n",
    "#print(proposal_query)"
   ]
  },
  {
   "cell_type": "code",
   "execution_count": 4,
   "id": "57f12908-acfd-420c-a9f6-6e487f149557",
   "metadata": {},
   "outputs": [
    {
     "name": "stdout",
     "output_type": "stream",
     "text": [
      "200 OK\n"
     ]
    }
   ],
   "source": [
    "url = 'https://hub.snapshot.org/graphql/'\n",
    "proposal_response = requests.post(url, json={'query': proposal_query})\n",
    "print(proposal_response.status_code,proposal_response.reason)"
   ]
  },
  {
   "cell_type": "code",
   "execution_count": 5,
   "id": "31db89e7-53e9-48c3-a2db-936ae6d04c86",
   "metadata": {},
   "outputs": [],
   "source": [
    "proposal_json = proposal_response.json()"
   ]
  },
  {
   "cell_type": "code",
   "execution_count": 6,
   "id": "ffb6eecb-0afa-4f91-9c97-e26307d9404b",
   "metadata": {},
   "outputs": [],
   "source": [
    "#proposal_json"
   ]
  },
  {
   "cell_type": "code",
   "execution_count": null,
   "id": "63cf7490-6c7b-4215-b3b6-e8f81e077938",
   "metadata": {},
   "outputs": [],
   "source": []
  },
  {
   "cell_type": "code",
   "execution_count": 7,
   "id": "fe8a7a98-7c24-4d42-a47a-fc475d79e227",
   "metadata": {},
   "outputs": [],
   "source": [
    "# Dump Proposal Dataframe\n",
    "proposal_row_list = []\n",
    "for proposal in proposal_json['data']['proposals']:\n",
    "    id = proposal['id']\n",
    "    title = proposal['title']\n",
    "    body = proposal['body']\n",
    "    choices = tuple(proposal['choices'])\n",
    "    scores = tuple(proposal['scores'])\n",
    "    scores_total = proposal['scores_total']\n",
    "    votes = proposal['votes']\n",
    "    \n",
    "    proposal_row = pd.Series(data=[id,title,body,choices,scores,scores_total,votes],\n",
    "                      index = ['proposal_id','title','body','choices','scores','scores_total','votes']\n",
    "                     )\n",
    "    proposal_row_list.append(proposal_row)\n",
    "\n",
    "proposals_df = pd.DataFrame(proposal_row_list)\n",
    "\n"
   ]
  },
  {
   "cell_type": "markdown",
   "id": "d0abe75f-bc7e-49f4-92db-d6fa627af7f3",
   "metadata": {},
   "source": [
    "## Cleaning Proposal df"
   ]
  },
  {
   "cell_type": "code",
   "execution_count": 8,
   "id": "6fb82ad8-7a1d-4c06-a9a2-3183ebed56c7",
   "metadata": {},
   "outputs": [],
   "source": [
    "def make_proposal_category(title):\n",
    "    '''\n",
    "    Logic for parsing the title to categorize the proposal.\n",
    "    '''\n",
    "    if ('DG1' in title or 'Decision Gate 1' in title):\n",
    "        category = 'DG1'\n",
    "    elif ('DG2' in title or 'Decision Gate 2' in title): \n",
    "        category = 'DG2'\n",
    "    elif ('IIP' in title): \n",
    "        category = 'IIP'\n",
    "    else: \n",
    "        category = 'Metagovernance'\n",
    "    return category\n",
    "def make_proposal_result(row):\n",
    "    '''\n",
    "    Logic for checking if the proposal passed or not. \n",
    "    1 is FOR\n",
    "    2 is AGAINST\n",
    "    '''\n",
    "    category = row['category']\n",
    "    percentage_for = row['percentage_for']\n",
    "    #print(category)\n",
    "    #print(percentage_for)\n",
    "    #print(type(percentage_for))\n",
    "    if category == 'DG2':\n",
    "        if percentage_for >.6:\n",
    "            return 1 \n",
    "        else:\n",
    "            return 2\n",
    "    else:\n",
    "        if percentage_for >.5:\n",
    "            return 1\n",
    "        else:\n",
    "            return 2\n",
    "    "
   ]
  },
  {
   "cell_type": "code",
   "execution_count": 9,
   "id": "839ed1a6-51e8-437a-b6cd-4b7f8a48d152",
   "metadata": {},
   "outputs": [],
   "source": [
    "proposals_df['category'] = proposals_df['title'].apply(make_proposal_category) # Make category column\n",
    "proposals_df = proposals_df[proposals_df['choices'].apply(len) == 2] # Remove multi-choice proposals\n",
    "proposals_df = proposals_df[proposals_df['scores_total'] !=0] # Remove dummy proposals\n",
    "proposals_df['percentage_for'] = proposals_df['scores'].map(lambda x: x[0])/proposals_df['scores_total']\n",
    "proposals_df['result'] = proposals_df.apply(make_proposal_result,axis=1) # Make category column\n",
    "proposals_df.to_json('proposals_df.json')"
   ]
  },
  {
   "cell_type": "code",
   "execution_count": 10,
   "id": "6fcc42bb-5ca2-4731-8d7f-ac25e1332355",
   "metadata": {},
   "outputs": [
    {
     "data": {
      "text/plain": [
       "1"
      ]
     },
     "execution_count": 10,
     "metadata": {},
     "output_type": "execute_result"
    }
   ],
   "source": [
    "make_proposal_result(proposals_df.iloc[2])"
   ]
  },
  {
   "cell_type": "code",
   "execution_count": null,
   "id": "6a49fef8-d803-4d1f-9fd4-efb2a5af5d4e",
   "metadata": {},
   "outputs": [],
   "source": []
  },
  {
   "cell_type": "markdown",
   "id": "0d69b28c-5db6-4a6c-aabf-5eece49e293c",
   "metadata": {},
   "source": [
    "### Double check that the choices are in the correct order"
   ]
  },
  {
   "cell_type": "code",
   "execution_count": 11,
   "id": "3cc369a8-8605-4c81-a9de-513e182084d9",
   "metadata": {},
   "outputs": [
    {
     "data": {
      "text/plain": [
       "(FOR, AGAINST)                                                         93\n",
       "(For, Against)                                                         84\n",
       "(Approve, Reject)                                                       4\n",
       "(FOR , AGAINST)                                                         2\n",
       "(Yes, No)                                                               1\n",
       "(Fund Balancer Grants DAO Wave 2, Do not fund)                          1\n",
       "(Stop BAL for Gas, Continue BAL for Gas)                                1\n",
       "(Approve, Deny)                                                         1\n",
       "(Proceed with \"Whale\" Sponsorship, Do not proceed with sponsorship)     1\n",
       "(Approve Grant, Deny Grant)                                             1\n",
       "(Yes, I support this proposal, No, I am against this proposal)          1\n",
       "(yes, I vote for this proposal, no, I vote against this proposal)       1\n",
       "(Yes we would love a Telegram, Discord is enough)                       1\n",
       "(FOR, AGAINST )                                                         1\n",
       "Name: choices, dtype: int64"
      ]
     },
     "execution_count": 11,
     "metadata": {},
     "output_type": "execute_result"
    }
   ],
   "source": [
    "proposals_df['choices'].value_counts()"
   ]
  },
  {
   "cell_type": "markdown",
   "id": "8771e568-215d-4633-b0a7-413bd13d0623",
   "metadata": {},
   "source": [
    "When we did this, we wanted the first choice to always be \"yes\""
   ]
  },
  {
   "cell_type": "code",
   "execution_count": null,
   "id": "54362c85-0630-481a-9b1e-620f0cd98c44",
   "metadata": {},
   "outputs": [],
   "source": []
  },
  {
   "cell_type": "code",
   "execution_count": 12,
   "id": "84e1f05d-5da2-4c45-bcac-a8712950af4b",
   "metadata": {},
   "outputs": [],
   "source": [
    "#"
   ]
  },
  {
   "cell_type": "code",
   "execution_count": null,
   "id": "4410ce7c-6b4a-4cc9-866d-45258f8d757d",
   "metadata": {},
   "outputs": [],
   "source": [
    "# Dump Vote Dataframe\n",
    "votes_df_list = []\n",
    "for proposal in proposal_json['data']['proposals']:\n",
    "    #print(proposal['state'],proposal['choices'])\n",
    "    if proposal['state'] != 'closed':\n",
    "        continue\n",
    "    else:\n",
    "        votes_for_proposals_df = make_vote_df_from_proposal_id(proposal['id'])\n",
    "        votes_df_list.append(votes_for_proposals_df)\n",
    "        \n",
    "all_votes_df = pd.concat(votes_df_list,ignore_index=True)\n",
    "all_votes_df['created'] = pd.to_datetime(all_votes_df['created'],unit='s') #Convert to datetime\n",
    "all_votes_df = remove_zero_vp_proposals(all_votes_df) \n",
    "all_votes_df.to_json('all_votes_df.json')"
   ]
  },
  {
   "cell_type": "markdown",
   "id": "9a49fd2c-f931-4045-8e03-9ebabf90391d",
   "metadata": {},
   "source": [
    "## Cleaning Vote Dataframe"
   ]
  },
  {
   "cell_type": "code",
   "execution_count": null,
   "id": "a013d1cd-084e-4fcd-ac3c-1f8cbb41c71a",
   "metadata": {},
   "outputs": [],
   "source": [
    "def remove_zero_vp_proposals(all_votes_df):\n",
    "    vp_sum_df = all_votes_df.groupby('proposal')['vp'].sum() \n",
    "    zero_vp_proposals = vp_sum_df[vp_sum_df==0].index\n",
    "    all_votes_df = all_votes_df[~all_votes_df['proposal'].isin(zero_vp_proposals)]\n",
    "    return all_votes_df"
   ]
  },
  {
   "cell_type": "code",
   "execution_count": null,
   "id": "1aa1dff8-0402-442a-8053-8308280d195a",
   "metadata": {},
   "outputs": [],
   "source": []
  },
  {
   "cell_type": "code",
   "execution_count": null,
   "id": "ca6699c8-2272-4857-920a-db032d8d6e02",
   "metadata": {},
   "outputs": [],
   "source": []
  },
  {
   "cell_type": "markdown",
   "id": "c0bb06b8-365b-45aa-80a5-54cc136346fd",
   "metadata": {},
   "source": [
    "# Analysis"
   ]
  },
  {
   "cell_type": "markdown",
   "id": "82bfff50-4059-4809-bdf0-4e490bf90bbc",
   "metadata": {},
   "source": [
    "###  What percentage of proposals are unanimous?\n"
   ]
  },
  {
   "cell_type": "code",
   "execution_count": null,
   "id": "c3f8e7bf-7719-487e-a930-5dbf39de833c",
   "metadata": {},
   "outputs": [],
   "source": [
    "# What percentage of proposals are unanimous?\n",
    "proposals_df['percentage_for'] = proposals_df['scores'].map(lambda x: x[0])/proposals_df['scores_total']\n",
    "plt.scatter(proposals_df['scores_total'],proposals_df['percentage_for'])\n",
    "plt.xlabel('Scores Total')\n",
    "plt.ylabel('Percentage For')\n",
    "plt.title('Scatter of \"Percentage For vs Scores Total\"')\n",
    "plt.show()"
   ]
  },
  {
   "cell_type": "code",
   "execution_count": null,
   "id": "974566f7-b4e4-4a6c-bd38-54dff8c9bc27",
   "metadata": {},
   "outputs": [],
   "source": []
  },
  {
   "cell_type": "markdown",
   "id": "e9d289c1-a7d9-4808-9900-5ce0a6b0aa2e",
   "metadata": {},
   "source": [
    "# King Maker / Deciding Vote"
   ]
  },
  {
   "cell_type": "code",
   "execution_count": null,
   "id": "8103a5f7-e5a4-4b53-88f1-f63b1894eaba",
   "metadata": {},
   "outputs": [],
   "source": [
    "def winning_threshold(choice,category):\n",
    "    if category == 'DG2':\n",
    "        if choice == 1:\n",
    "            return .6\n",
    "        else:\n",
    "            return .4\n",
    "    else:\n",
    "        return .5\n",
    "    \n",
    "def is_deciding_vote(row):\n",
    "    '''\n",
    "    Assuming that a vote is ALREADY on the winning side,\n",
    "    A vote is a considered a deciding vote if the following statement holds:\n",
    "    'If the vote had switched sides, then it would have still been on the winning side.'\n",
    "    '''\n",
    "    vp = row['vp']\n",
    "    choice = row['choice']\n",
    "    category = row['category']\n",
    "    scores_total = row['scores_total']\n",
    "    coalition_vp = row['coalition_vp']\n",
    "    #old_choice = choice\n",
    "    #old_my_team_score= coalition_vp\n",
    "    #old_enemy_team_score = scores_total-coalition_vp\n",
    "\n",
    "    new_choice = (choice) % 2 + 1 # 1 goes to 2, 2 goes to 1\n",
    "    new_coalition_vp = scores_total-(coalition_vp-vp)\n",
    "\n",
    "\n",
    "    new_percentage = new_coalition_vp/scores_total\n",
    "\n",
    "    new_wins = new_percentage > winning_threshold(new_choice,category)\n",
    "\n",
    "    return new_wins"
   ]
  },
  {
   "cell_type": "code",
   "execution_count": null,
   "id": "fefc1e9c-3c5c-47b1-aceb-0fa6d4c0b1a6",
   "metadata": {},
   "outputs": [],
   "source": [
    "#Merge\n",
    "merged_df = pd.merge(all_votes_df,proposals_df,left_on='proposal',right_on='proposal_id',how='inner')"
   ]
  },
  {
   "cell_type": "code",
   "execution_count": null,
   "id": "03ea9267-98ea-46e4-af3f-cef977cad003",
   "metadata": {},
   "outputs": [],
   "source": [
    "#Create columns\n",
    "merged_df['coalition_vp'] = merged_df.apply(lambda row: row.scores[row.choice-1],axis=1)\n",
    "merged_df['coalition_contribution'] = merged_df['vp']/merged_df['coalition_vp']\n",
    "merged_df['is_winning_coalition'] = merged_df['choice']==merged_df['result']"
   ]
  },
  {
   "cell_type": "code",
   "execution_count": null,
   "id": "27ca0211-ca87-4a50-8c22-1970b36807a1",
   "metadata": {},
   "outputs": [],
   "source": [
    "#Filter and create deciding_vote column\n",
    "winning_coalition_df = merged_df[merged_df['is_winning_coalition']]\n",
    "winning_coalition_df['is_deciding_vote'] = winning_coalition_df.apply(is_deciding_vote,axis=1)\n"
   ]
  },
  {
   "cell_type": "code",
   "execution_count": null,
   "id": "7c5b228b-9e40-4d0f-a419-fe82a164cd48",
   "metadata": {},
   "outputs": [],
   "source": [
    "#Pivot\n",
    "deciding_vote_df = winning_coalition_df.sort_values(by='coalition_contribution',ascending=False).groupby(['voter','is_deciding_vote']).size()\\\n",
    "                       .reset_index(name='counts')\\\n",
    "                       .pivot_table(index='voter',columns='is_deciding_vote',values='counts',fill_value=0)\\\n",
    "                       .sort_values(by=True,ascending=False)"
   ]
  },
  {
   "cell_type": "code",
   "execution_count": null,
   "id": "d661b965-f761-44ea-adaa-71a1ed7f3a39",
   "metadata": {},
   "outputs": [],
   "source": [
    "deciding_vote_df"
   ]
  },
  {
   "cell_type": "code",
   "execution_count": null,
   "id": "7a99d393-fa69-4259-9f17-ffd78a3118a1",
   "metadata": {},
   "outputs": [],
   "source": []
  },
  {
   "cell_type": "code",
   "execution_count": null,
   "id": "d670cf88-ac51-4b6b-86d8-c51184114649",
   "metadata": {},
   "outputs": [],
   "source": []
  },
  {
   "cell_type": "code",
   "execution_count": null,
   "id": "5883265f-59e8-451d-9643-a914035e45e1",
   "metadata": {},
   "outputs": [],
   "source": []
  },
  {
   "cell_type": "code",
   "execution_count": null,
   "id": "407f268c-2511-4ba5-ac93-f69b229e9ca2",
   "metadata": {},
   "outputs": [],
   "source": []
  },
  {
   "cell_type": "code",
   "execution_count": null,
   "id": "9abb4e4b-93d8-4f02-bcf6-bf1da16e4c69",
   "metadata": {},
   "outputs": [],
   "source": []
  },
  {
   "cell_type": "code",
   "execution_count": null,
   "id": "5a89b5ff-e4b3-400a-b619-b233cc83a70b",
   "metadata": {},
   "outputs": [],
   "source": []
  },
  {
   "cell_type": "code",
   "execution_count": null,
   "id": "cd9d3563-aff8-4785-9fc1-cb53645ff9b2",
   "metadata": {},
   "outputs": [],
   "source": []
  },
  {
   "cell_type": "code",
   "execution_count": null,
   "id": "d5174765-7d28-4aad-a915-52e46787d4ee",
   "metadata": {},
   "outputs": [],
   "source": []
  }
 ],
 "metadata": {
  "kernelspec": {
   "display_name": "Python 3",
   "language": "python",
   "name": "python3"
  },
  "language_info": {
   "codemirror_mode": {
    "name": "ipython",
    "version": 3
   },
   "file_extension": ".py",
   "mimetype": "text/x-python",
   "name": "python",
   "nbconvert_exporter": "python",
   "pygments_lexer": "ipython3",
   "version": "3.9.7"
  }
 },
 "nbformat": 4,
 "nbformat_minor": 5
}
