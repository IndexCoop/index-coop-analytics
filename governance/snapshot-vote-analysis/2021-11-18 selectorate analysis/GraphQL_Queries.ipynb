{
 "cells": [
  {
   "cell_type": "code",
   "execution_count": 1,
   "id": "7ced0c89-59ce-4811-a9d0-582423a291e8",
   "metadata": {},
   "outputs": [
    {
     "name": "stderr",
     "output_type": "stream",
     "text": [
      "Matplotlib is building the font cache; this may take a moment.\n"
     ]
    }
   ],
   "source": [
    "import requests\n",
    "import json\n",
    "import pandas as pd\n",
    "import matplotlib.pyplot as plt"
   ]
  },
  {
   "cell_type": "markdown",
   "id": "71803e6b-051d-447b-af62-15699c8b00bf",
   "metadata": {},
   "source": [
    "# Functions"
   ]
  },
  {
   "cell_type": "code",
   "execution_count": 2,
   "id": "6ad162e3-8d06-4440-98fa-192ba7478320",
   "metadata": {},
   "outputs": [],
   "source": [
    "def make_vote_df_from_proposal_id(proposal_id):\n",
    "    url = 'https://hub.snapshot.org/graphql/'\n",
    "    vote_query = create_vote_query(proposal_id)\n",
    "    vote_response = requests.post(url, json={'query': vote_query})\n",
    "    print(proposal_response.status_code,proposal_response.reason,proposal_id)\n",
    "    vote_json = vote_response.json()\n",
    "    vote_df = vote_json_to_df(vote_json)\n",
    "    return vote_df\n",
    "    \n",
    "def create_vote_query(proposal_id):\n",
    "    vote_query = '''\n",
    "    query Votes {\n",
    "      votes (\n",
    "        first: 9999999\n",
    "        skip: 0\n",
    "        where: {\n",
    "          proposal: \"'''+ proposal_id + '''\"\n",
    "        }\n",
    "        orderBy: \"created\",\n",
    "        orderDirection: desc\n",
    "      ) {\n",
    "        id\n",
    "        ipfs\n",
    "        voter\n",
    "        created\n",
    "        space {\n",
    "          id\n",
    "        }\n",
    "        proposal {\n",
    "          id\n",
    "        }\n",
    "        choice\n",
    "        metadata\n",
    "        vp\n",
    "        vp_by_strategy\n",
    "        vp_state\n",
    "      }\n",
    "    }\n",
    "    '''\n",
    "    return vote_query\n",
    "def vote_json_to_df(vote_json):\n",
    "    row_as_series_list=[]\n",
    "    for vote in vote_json['data']['votes']:\n",
    "        id = vote['id']\n",
    "        ipfs = vote['ipfs']\n",
    "        voter = vote['voter']\n",
    "        created = vote['created']\n",
    "        space = vote['space']['id']\n",
    "        proposal = vote['proposal']['id']\n",
    "        choice = vote['choice']\n",
    "        #metadata = vote['metadata']: {},\n",
    "        vp = vote['vp']\n",
    "        vp_by_strategy = tuple(vote['vp_by_strategy'])\n",
    "        vp_state = vote['vp_state']\n",
    "        row_as_series  = pd.Series(\n",
    "            data=(\n",
    "                id,\n",
    "                ipfs,\n",
    "                voter,\n",
    "                created,\n",
    "                space,\n",
    "                proposal,\n",
    "                choice,\n",
    "                #metadata,\n",
    "                vp,\n",
    "                vp_by_strategy,\n",
    "                vp_state,\n",
    "                ),\n",
    "            index=(\n",
    "                'vote_id',\n",
    "                'ipfs',\n",
    "                'voter',\n",
    "                'created',\n",
    "                'space',\n",
    "                'proposal',\n",
    "                'choice',\n",
    "                #'metadata',\n",
    "                'vp',\n",
    "                'vp_by_strategy',\n",
    "                'vp_state',\n",
    "            )\n",
    "        )\n",
    "        row_as_series_list.append(row_as_series)\n",
    "    return_df = pd.DataFrame(row_as_series_list)\n",
    "    return return_df\n"
   ]
  },
  {
   "cell_type": "markdown",
   "id": "34579c29-a5f9-48d6-a18e-d4e21b776e43",
   "metadata": {},
   "source": [
    "# Querying and Dumping the Data"
   ]
  },
  {
   "cell_type": "code",
   "execution_count": 3,
   "id": "88074786-3bc1-414d-b2f6-650d5c264fee",
   "metadata": {},
   "outputs": [],
   "source": [
    "proposal_query = '''\n",
    "query Proposals {\n",
    "  proposals (\n",
    "    first: 10000000\n",
    "    where: {\n",
    "      space_in: [\"index-coop.eth\"],\n",
    "      state: \"closed\"\n",
    "    },\n",
    "    orderBy: \"created\",\n",
    "    orderDirection: desc\n",
    "  ) {\n",
    "    id\n",
    "    title\n",
    "    body\n",
    "    choices\n",
    "    start\n",
    "    end\n",
    "    snapshot\n",
    "    state\n",
    "    author\n",
    "    scores\n",
    "    scores_by_strategy\n",
    "    scores_state\n",
    "    scores_total\n",
    "    scores_updated\n",
    "    votes\n",
    "    space {\n",
    "      id\n",
    "      name\n",
    "    }\n",
    "  }\n",
    "}\n",
    "'''\n",
    "#print(proposal_query)"
   ]
  },
  {
   "cell_type": "code",
   "execution_count": 4,
   "id": "57f12908-acfd-420c-a9f6-6e487f149557",
   "metadata": {},
   "outputs": [
    {
     "name": "stdout",
     "output_type": "stream",
     "text": [
      "200 OK\n"
     ]
    }
   ],
   "source": [
    "url = 'https://hub.snapshot.org/graphql/'\n",
    "proposal_response = requests.post(url, json={'query': proposal_query})\n",
    "print(proposal_response.status_code,proposal_response.reason)"
   ]
  },
  {
   "cell_type": "code",
   "execution_count": 5,
   "id": "31db89e7-53e9-48c3-a2db-936ae6d04c86",
   "metadata": {},
   "outputs": [],
   "source": [
    "proposal_json = proposal_response.json()"
   ]
  },
  {
   "cell_type": "code",
   "execution_count": 6,
   "id": "ffb6eecb-0afa-4f91-9c97-e26307d9404b",
   "metadata": {},
   "outputs": [],
   "source": [
    "#proposal_json"
   ]
  },
  {
   "cell_type": "code",
   "execution_count": null,
   "id": "63cf7490-6c7b-4215-b3b6-e8f81e077938",
   "metadata": {},
   "outputs": [],
   "source": []
  },
  {
   "cell_type": "code",
   "execution_count": 6,
   "id": "fe8a7a98-7c24-4d42-a47a-fc475d79e227",
   "metadata": {},
   "outputs": [],
   "source": [
    "# Dump Proposal Dataframe\n",
    "proposal_row_list = []\n",
    "for proposal in proposal_json['data']['proposals']:\n",
    "    id = proposal['id']\n",
    "    title = proposal['title']\n",
    "    body = proposal['body']\n",
    "    choices = tuple(proposal['choices'])\n",
    "    scores = tuple(proposal['scores'])\n",
    "    scores_total = proposal['scores_total']\n",
    "    votes = proposal['votes']\n",
    "    \n",
    "    proposal_row = pd.Series(data=[id,title,body,choices,scores,scores_total,votes],\n",
    "                      index = ['proposal_id','title','body','choices','scores','scores_total','votes']\n",
    "                     )\n",
    "    proposal_row_list.append(proposal_row)\n",
    "\n",
    "proposals_df = pd.DataFrame(proposal_row_list)\n",
    "\n"
   ]
  },
  {
   "cell_type": "markdown",
   "id": "d0abe75f-bc7e-49f4-92db-d6fa627af7f3",
   "metadata": {},
   "source": [
    "## Cleaning Proposal df"
   ]
  },
  {
   "cell_type": "code",
   "execution_count": 9,
   "id": "6fb82ad8-7a1d-4c06-a9a2-3183ebed56c7",
   "metadata": {},
   "outputs": [],
   "source": [
    "def make_proposal_category(title):\n",
    "    '''\n",
    "    Logic for parsing the title to categorize the proposal.\n",
    "    '''\n",
    "    if ('DG1' in title or 'Decision Gate 1' in title):\n",
    "        category = 'DG1'\n",
    "    elif ('DG2' in title or 'Decision Gate 2' in title): \n",
    "        category = 'DG2'\n",
    "    elif ('IIP' in title): \n",
    "        category = 'IIP'\n",
    "    else: \n",
    "        category = 'Metagovernance'\n",
    "    return category\n",
    "def make_proposal_result(row):\n",
    "    '''\n",
    "    Logic for checking if the proposal passed or not. \n",
    "    1 is FOR\n",
    "    2 is AGAINST\n",
    "    '''\n",
    "    category = row['category']\n",
    "    percentage_for = row['percentage_for']\n",
    "    #print(category)\n",
    "    #print(percentage_for)\n",
    "    #print(type(percentage_for))\n",
    "    if category == 'DG2':\n",
    "        if percentage_for >.6:\n",
    "            return 1 \n",
    "        else:\n",
    "            return 2\n",
    "    else:\n",
    "        if percentage_for >.5:\n",
    "            return 1\n",
    "        else:\n",
    "            return 2\n",
    "    "
   ]
  },
  {
   "cell_type": "code",
   "execution_count": 10,
   "id": "839ed1a6-51e8-437a-b6cd-4b7f8a48d152",
   "metadata": {},
   "outputs": [],
   "source": [
    "proposals_df['category'] = proposals_df['title'].apply(make_proposal_category) # Make category column\n",
    "proposals_df = proposals_df[proposals_df['choices'].apply(len) == 2] # Remove multi-choice proposals\n",
    "proposals_df = proposals_df[proposals_df['scores_total'] !=0] # Remove dummy proposals\n",
    "proposals_df['percentage_for'] = proposals_df['scores'].map(lambda x: x[0])/proposals_df['scores_total']\n",
    "proposals_df['result'] = proposals_df.apply(make_proposal_result,axis=1) # Make category column\n",
    "proposals_df.to_json('proposals_df.json')"
   ]
  },
  {
   "cell_type": "code",
   "execution_count": 11,
   "id": "6fcc42bb-5ca2-4731-8d7f-ac25e1332355",
   "metadata": {},
   "outputs": [
    {
     "data": {
      "text/plain": [
       "1"
      ]
     },
     "execution_count": 11,
     "metadata": {},
     "output_type": "execute_result"
    }
   ],
   "source": [
    "make_proposal_result(proposals_df.iloc[2])"
   ]
  },
  {
   "cell_type": "code",
   "execution_count": null,
   "id": "6a49fef8-d803-4d1f-9fd4-efb2a5af5d4e",
   "metadata": {},
   "outputs": [],
   "source": []
  },
  {
   "cell_type": "markdown",
   "id": "0d69b28c-5db6-4a6c-aabf-5eece49e293c",
   "metadata": {},
   "source": [
    "### Double check that the choices are in the correct order"
   ]
  },
  {
   "cell_type": "code",
   "execution_count": 12,
   "id": "3cc369a8-8605-4c81-a9de-513e182084d9",
   "metadata": {},
   "outputs": [
    {
     "data": {
      "text/plain": [
       "(FOR, AGAINST)                                                         93\n",
       "(For, Against)                                                         85\n",
       "(Approve, Reject)                                                       4\n",
       "(FOR , AGAINST)                                                         2\n",
       "(Yes, No)                                                               1\n",
       "(Fund Balancer Grants DAO Wave 2, Do not fund)                          1\n",
       "(Stop BAL for Gas, Continue BAL for Gas)                                1\n",
       "(Approve, Deny)                                                         1\n",
       "(Proceed with \"Whale\" Sponsorship, Do not proceed with sponsorship)     1\n",
       "(Approve Grant, Deny Grant)                                             1\n",
       "(Yes, I support this proposal, No, I am against this proposal)          1\n",
       "(yes, I vote for this proposal, no, I vote against this proposal)       1\n",
       "(Yes we would love a Telegram, Discord is enough)                       1\n",
       "(FOR, AGAINST )                                                         1\n",
       "Name: choices, dtype: int64"
      ]
     },
     "execution_count": 12,
     "metadata": {},
     "output_type": "execute_result"
    }
   ],
   "source": [
    "proposals_df['choices'].value_counts()"
   ]
  },
  {
   "cell_type": "markdown",
   "id": "8771e568-215d-4633-b0a7-413bd13d0623",
   "metadata": {},
   "source": [
    "When we did this, we wanted the first choice to always be \"yes\""
   ]
  },
  {
   "cell_type": "code",
   "execution_count": null,
   "id": "54362c85-0630-481a-9b1e-620f0cd98c44",
   "metadata": {},
   "outputs": [],
   "source": []
  },
  {
   "cell_type": "code",
   "execution_count": 12,
   "id": "84e1f05d-5da2-4c45-bcac-a8712950af4b",
   "metadata": {},
   "outputs": [],
   "source": [
    "#"
   ]
  },
  {
   "cell_type": "code",
   "execution_count": 13,
   "id": "4410ce7c-6b4a-4cc9-866d-45258f8d757d",
   "metadata": {},
   "outputs": [
    {
     "name": "stdout",
     "output_type": "stream",
     "text": [
      "200 OK Qmf9zQAiL1eJwDhy7SPXhNjSNhga3xnHrxLp373amCGnzV\n",
      "200 OK 0x81ba2833504ea67c0d82e923a500afb54aa62ca74eeded97be6050d947a47e8e\n",
      "200 OK QmaGZeBayJGQpFZWYSxrKndyf65ukyeTd9bFqjpDcbWMHG\n",
      "200 OK QmPmuC4JZKy4kYqA7eBGHAgzpQUQNyGCb3wRZUudBKP3GN\n",
      "200 OK QmTsi5WNdBknEBKEjXnzR5PRGRtv9FFLRYyoo5KzoJkvmB\n",
      "200 OK 0xe3fff4b6a16f460fba6477b25fd531e7dd54cf8981323fc08508a99217234495\n",
      "200 OK QmVxXii1pWq3b7Hpw24pmqebNb1svehcHWwJke3Q1SPEaR\n",
      "200 OK QmdWAGRC1G5GnNff7jGcf2kjmNQ9v7KEYkNjTgDbQQAD4c\n",
      "200 OK 0x940fea8c7965da18b12fc6a081478204d41cda975ca8acdf220a17b0b99193aa\n",
      "200 OK 0x31a11f7f37c0319785cad3ab7353745731c3d33908b5ebd073c41276dd98264c\n",
      "200 OK 0xc6735f6bba6dc6ba537077d08f4db0bf3695ec1086ddc8144d264a757e69061f\n",
      "200 OK 0x40edf5d2828a0473626a8a7bfa22a8755fb847a95563e238665ba00ecfb279ca\n",
      "200 OK 0xf617a54ce920d92e800bc8137367c97662446f5fc6e167f93049f840009ee1c4\n",
      "200 OK QmSL8mUPtKp78YrsWmLw7t8X3jH348ZXjUeyEVyanJxV2A\n",
      "200 OK QmSgaTqTbDaMDcoGdiDGy5HhYuLxZpraifsD4UxA1h8FdH\n",
      "200 OK QmV1AkcZ2oJYDzPUGkdevE4NvBSAHoQwAkRV7ytFJyEUzg\n",
      "200 OK 0x6e77a0e6d1fd3f2b73df0e4dad1df2daf17279370397f4f61af420076e2a69bc\n",
      "200 OK 0x26ea01b07411488227517a164bdfa5ee5c06792bd9761c00082b559d750a04f4\n",
      "200 OK 0xf7bf46dc0009184e394704585daace8f1dd43b62cb64b60aea712d00f58edddd\n",
      "200 OK 0xe3e6f74a3ce4f06213b0e4ac80fa4750917f5b9d67bb57b64208e7e9b0254dd9\n",
      "200 OK QmaF8HkHF7c6u86SVdiZ3BnBRRRp3qzqrHaSo3QWeM6pqt\n",
      "200 OK QmcLmFvPcHNuYuN8rXkQGMtAW4mxoucJ4ECfxtmKLobBvD\n",
      "200 OK QmYt65PZBqiAcM8qD6DRQCKgemPAikFgJWPHxxS9yHR5Ae\n",
      "200 OK QmcXqirKXRxp1pSDG36ytWhC1WHCsGk1ZsVxH7yiDMvrAR\n",
      "200 OK 0x625cc581a6b7ec394564e436ada135fea1f38dd985ecaaf6a695b6f518c0162e\n",
      "200 OK 0xbf656da9c6607015e4471974835aaf954433069587b078f92763a847b3c141ac\n",
      "200 OK QmbbpCkypmXYZbBf65N9syoAWsEHXZPo4QgsHapZDC6hZa\n",
      "200 OK QmRNRvcpubDpuQZseWk1wTJ5EGc8vADF6DYifYJdCDkxRC\n",
      "200 OK QmXzJ3X7taEnG3cMk18gunEvNqJUUeyFbJwJ4Hv6LrkD5h\n",
      "200 OK QmVs198Fptpxem37JbJXbXfo8H9RhdsCKaxcQ1xhc6aKir\n",
      "200 OK Qmc7MN1BsWRwADoHqwmXC8vntAbgM7sPHsTwY2cYZ87omT\n",
      "200 OK QmZd8YiEmcvio2AbjzfKJt1FYEvbZU2LUjQr1Swwt3KD2i\n",
      "200 OK QmdjPoGA3nFrL3kdVkBUBWDiKuRoDpMvtSgSEH9RaN6Do5\n",
      "200 OK QmbCJzRtpSWN4H81C1Ws7mJXjpYTPj1JfsAtZgvvDH4Th8\n",
      "200 OK QmcJudcVzrWh22NmFKXmAMP6FugU4beQoAqTwAKLLMa5wQ\n",
      "200 OK QmZVFzHAr8CcrcN2pSgMJ1zrrbt87owbQ1VB2jFfCCP9RF\n",
      "200 OK QmTbLrUm4pHX6xXy2WbaDHcNWTGdDQmjEH8X81jaVJFVkH\n",
      "200 OK QmapbbsGeaqs2dU7Up51UXKZdt2jHuCZ7qkaok3apTouS8\n",
      "200 OK QmS5kdbHkPKs7DCotw2eNQ63cm5WKbAwJiS3KA2zocLdPq\n",
      "200 OK QmWb4943NgRZysYyJSvM1VM98rstmoHqa1BR78PKanCTXa\n",
      "200 OK Qme4RCnpqoRdFP8hDbJf9bSD1xwNU73bbV7RU8PewPBx6h\n",
      "200 OK QmVCw2xE8RU4rJNdPQNpRSGvvadoSgFvVKsLr9TEZ21N6X\n",
      "200 OK QmPR2ozqX71MxYR9dbCwbjoyqAyo93SvLK2RaMU9Sfz7x4\n",
      "200 OK QmW11v7wH4jftquv4nTf1ecAuhkyiNvnXFS2uGCVoDLL37\n",
      "200 OK QmYPKh6oy2YeCtutxtNmSxUQwUaztADJur8YypQn4VGTTp\n",
      "200 OK QmVCk8KLaiRS8QCRFdJyHpirAzCNEfRnnD3JXa2veKY2Ng\n",
      "200 OK QmXvqAyhiachqJdVNVaFCv8vEGXovjJuQhhA1kbsDiBNbs\n",
      "200 OK QmbNMSzTBrUDzTFymFZTmZHGA94RU397KLobvvqVydhcat\n",
      "200 OK QmcXEdcHLCHByzJ6n4EzzQAH3bcEBfiAAnb6pfhbNESgpK\n",
      "200 OK QmS27iWx16i7d9JjUmHFmTSEr6p69Ypi5bFwQmTAP2WnkY\n",
      "200 OK QmUGBkQhx4oSH4aVuwN9deY93nd96fvF5GkGjLjEVCVxZ2\n",
      "200 OK QmUKV2n9xLxRtAmvXBnAJUAeXcYHpugHmTyd6uqjW66i9e\n",
      "200 OK QmZUJVNzSpx7HF5AEAYPJbbMWADaVW3q31wevNZrsXpbLE\n",
      "200 OK QmYV5ep5p5YkP2GEQfkBEz3V46UFdJvFk2RXxa8bQdL54i\n",
      "200 OK QmZrEwKJzk6W7De8yhU9GXCr3ANBzd3i1VZuKrJ9TSbeDM\n",
      "200 OK QmeCxMEWRiJVp6J37NsLBWQC6gF4Y667LmSQ4xyY8eMY5F\n",
      "200 OK QmT2mXGFrPaZxDv5X24Atvt29eebyuCjPW4Mm5JvGuXetP\n",
      "200 OK QmUPRoz427hLpG5kWvr18Aami3eywQnais5jX22JbdUYys\n",
      "200 OK QmZuFFVjTSboPHR7DRHmJ4uqXW1SEUPWE53aMwZ5M55rQq\n",
      "200 OK QmaikKf56LASjR6VoyJ3Q4aGwUHJcsuWrkEA2sQVNyaHAy\n",
      "200 OK QmPC98CVvLXyB6r1eF6KD2kjfGwgsUPUJEPfpvVJZaY7xK\n",
      "200 OK QmTYSEAYEmr9VFYgB9AoHbDD898nxsCgdoSg8fDSxLBkqW\n",
      "200 OK QmSLu4P6MLiXMCbbANVPydenz8Gs84k5Pg1P6VTaGo2GYC\n",
      "200 OK QmdbrV5YNqohuTQgdwsywWdcRB7Mth9xae6GMMUB9mjKjn\n",
      "200 OK QmdzouACaVbDLNSzca8aWBJr87hCtjuWNrTSbXBqQ4K5y9\n",
      "200 OK QmZa8WsStWo84iz1wGCsPzuM1TJTAi4DvsP2yvhu7669CZ\n",
      "200 OK QmZJzVGRgsu4AZVWyr4zqeuQLYfbjmq3n7dGGJmrNNKp7b\n",
      "200 OK QmTMh6j7h8DYXW2jbBYCQjEWv19MsBUw37DadWLhVX2exs\n",
      "200 OK QmcLCw61tXdSLsCxDTSVGjzTgNyMbPR1mabrWzMhicZQLs\n",
      "200 OK QmRgdgq6oqvP2yXNp12EcMJEz8QumTHKseTUY4954JeE8U\n",
      "200 OK QmRpucw5B4EfUXoRMpnSYLBBQVbssQXX3eJn74ra16JhRi\n",
      "200 OK QmRaLeum8W8BVAu6aTV7ZWzpf1LH9uf7Fr1PfDSf6jYo5N\n",
      "200 OK QmXQPEZnP6KQEVeDzvyx4JW2ESEhBfudXan9FBdsRhMNDS\n",
      "200 OK QmVq5ALGKRbCCYoPuU8wXww1tyEzJ1bUH6YExYVMhzmAig\n",
      "200 OK QmbPu5Q779tRGsLsnSuwTFNb2TkK4ktVEF3XLkefnYgSG7\n",
      "200 OK QmWthugptUz7xVxFdEb5mWf2VrTiHpwZiEJVzEittr6Kpg\n",
      "200 OK QmZTCSy4sAFHHTaYjZbiiQrDsV3qqYnSEPf6bav63hv8jP\n",
      "200 OK QmXMqAqKTFqFJoSFQBqWSAUr3WPNTrN4CNYmiBHgfG6qXU\n",
      "200 OK QmTYWLzKhaEbgXiaDjG3qoHTY4YCV8hdJNJk9AdFsRQVTP\n",
      "200 OK QmWD785mHAVuGc7VjPXSZEgkUEpSPqBrVQMnrXZGhydHZb\n",
      "200 OK QmQR1HZw8rBKUonkDSQnC379zRfDX1ggxBkucVGpLJwwuE\n",
      "200 OK QmNhU6Y6icN7pdiM2YcTzTf8D5bUuqWfkAeRnPh2E5WV2n\n",
      "200 OK QmZ4wifjaELSWL55xqW2PmkYuq1iP1bRYtnSeZixQeomMp\n",
      "200 OK QmRGG1FYYmoDufRCGAHnGpmB98GTFdWThsmzZ3w4aWdmAd\n",
      "200 OK QmXYWFbY4YsyRffdHB5JSL3KbgjWJPQ3J34LwVRxo2LGLL\n",
      "200 OK QmPUPcwTsPqjiCoJZRQzMgArN7rfMRKjbMvMnd4XMJhajz\n",
      "200 OK QmSVp7bmMwbDauGQS6VSSc3BgUMA2SkZmRkQYYTRufBi6f\n",
      "200 OK QmcFwGZmzTVR1wG548EDmm2jFDSdCeX6YeDqCgwYwjS9Fh\n",
      "200 OK QmY3C7qUtdm14ZCivHzRWDzw3UduUgxKmQdJ9iTe4ewCXX\n",
      "200 OK QmWwUL42vgm4qqbD61bUAX54qpmaWmPujtcMtndS54ffxt\n",
      "200 OK QmZscyNmGiqsmKQE8uiRAZ7ZnoomkapXqukBv16H1JgiU9\n",
      "200 OK QmUCRe5pNsTen7iVQMwKKGbW16dMGYirSvZMQ4fzmBVYaN\n",
      "200 OK QmPZAhAtuZ1L8D8xaibZMgiCz3MxAJi16mDdt87ZstR7FX\n",
      "200 OK QmSTs2ggzVm5kUXi47wWEnJdUa9GNy3kuxovcGA2Pe1vQZ\n",
      "200 OK QmdwhyR1eNciCc39jvwYmbtriCtEr7bkmFHNT7f4L5DH9k\n",
      "200 OK QmS4QcTaqJynHjc3uFkai9uvKApsz7CR6VqUtUQXuP9qhy\n",
      "200 OK QmVSHoBfYAeqyJ42UoEEQfSCDNBBSBD4MgAvExLwQxyaFQ\n",
      "200 OK QmRF2jTSxHuK5vyHj4RHk8NBZYdoZvqbvqUnUokCE39jcW\n",
      "200 OK Qma9WtQvnCFriA6X2KZ8tsbvJGpqnSKVbGhsu9rYy1Jyvx\n",
      "200 OK QmdQJo13rhP5hnpDkc46H1ZrZgyo3u73Sgf2DptWn4Z5Mf\n",
      "200 OK QmXsZPgif2LcD8669dh3EBnvwuF7MjvbBZACgGR2k2SE1d\n",
      "200 OK QmP7QzdTJezxUvYVqcg8Zeev4oQVZuFDM7nLExYxkiociU\n",
      "200 OK QmV3DbngbqifK4emn5U1edwFdkAwwgNnewPGcNwhANhv23\n",
      "200 OK QmeZfRUFFSL4ngGvYMfamjSJDqia4fzV15CXpcFiJ7qn1T\n",
      "200 OK QmdqUd3RrPxoxQK8PgD1DbcifNrvd5hFWhY1T5Mcu2bMJa\n",
      "200 OK QmcTDf7ba8iPePN4DGGWQwPMGnHQWATZZbeaVrCBrWoX5X\n",
      "200 OK QmP3Ur3hnDtMXPfatR24TojyH3BRYQ92FWNjh8dU22YpTY\n",
      "200 OK QmWRqe3PbX8z1mZTzjPd29WMLi9iBzgHM1y6SeQgaEifhb\n",
      "200 OK QmU22KuNvzr289Pd5K2wo97hkiE4m24R1D6GF3hQ1tAotJ\n",
      "200 OK QmfEFdo3byE9XsgfZrP2XG7VJwoeYSb3m56oF93hDeDMth\n",
      "200 OK QmSFp29qpcEnzvjr1UhciyVL7No1gMLDwnGLRjiX8448TQ\n",
      "200 OK QmZrsaX8qDPUgN5q2c2J5XZju6vMYoabxxYkScwjqDNjgu\n",
      "200 OK QmZVE4h3Pr83ikxinYedTriPFBdBZdDAcrG49EsYaUn8Mv\n",
      "200 OK QmUiJvwhzNayCCDZzcqHJQ8VusLUfx2NPz2khTE5zaE9dm\n",
      "200 OK QmdXkzHzo9NvMBXxX9zFY6rwDv4yVTtfCnNgrxsNFbYzZg\n",
      "200 OK QmackATMfesHuqanUK4GhLZSJjDpZJgn67JifGG1fhs792\n",
      "200 OK QmT2LyX3aPYaRg9sjt42TwNR31ubtHjd6DwsmCUv74pdhP\n",
      "200 OK QmWWDhfw9T2HYY6UnR3KMhK3T7BfHXko6UhWTnNn2wVmyC\n",
      "200 OK QmURjixKJf8HjybVmqrke5FLdzMB9UnTnFUXnhBBX3F5Sq\n",
      "200 OK Qmd95WcjJSza4gHRXUPqawgBw1YBW1QJ1b1Gv9nXsFbH9U\n",
      "200 OK QmX9gAX6ZAuJNvZ6Rb2PrXfB3DvVdssFsn7Tg3Vao1F6Mo\n",
      "200 OK QmWZpnRgTZvL87pik2L6XCBoAgdPPRhH5tFFFzy5Ej7mF2\n",
      "200 OK QmYGcveyFdVYGBeV4MZ93N2jCZF31Mg9ydEiUq43G6e28d\n",
      "200 OK QmWhMGeP81ypQEZbrhLNf8VT2RwGH2x5JpbcFRTykUxoZF\n",
      "200 OK QmZtEd1x95N91Eg1mwo5DoNA1NPFetrX9zccYxGZKivBzo\n",
      "200 OK QmYib818xxZ8vNPwPkeH8sQ3jmC45DfYFZDS574yGBx7ri\n",
      "200 OK Qmb9hJ1kQtjh6heyAxdrwgNQA34U84DLvQ9AAYmv1yEXbv\n",
      "200 OK QmVXe2ukLeknrHfxhcy9Ku1gQRxWf9JhNqoMssWYsY6KJT\n",
      "200 OK QmbGj5P9oJZWjoybkaKhAZD5ELmexN4zKJAe6VViu9kUJN\n",
      "200 OK QmS9uZV1UzTWmEv3HPzCDv2fh6WT45xhcXLkF2QQFFr9W4\n",
      "200 OK QmYTBsvzLtAbTxaqv2ZGSsG7pQaz7zj6cfT4i4vNd7r5rw\n",
      "200 OK QmZqR9ZjikjFE8TSS84VcS3q8wBeUQJ7qZEhxBvYPyqBU4\n",
      "200 OK QmeBLQBrtAukRwsv8235xc8HA21i3bL7xEThHhcAWNAhSh\n",
      "200 OK QmdgNav7hJBCwk1MQyEvV1Y2Lm83pDHegK2bEAV73cmL7i\n",
      "200 OK QmYUmTZwZfjKXPcNucBCRzwWTNLucYBP6UpPxztr9sN5Ci\n",
      "200 OK QmWTBBjj4cty1rmVuyujjV1hvNVVCBQaHbx3FSxKkEfD4R\n",
      "200 OK QmXxzDhCtAgN9aPXyMRosD8UaNMajyHv3LqzbyhJeDBcxG\n",
      "200 OK QmZ1VHJWfo1rZjPdki3NgLu9m32QqfbkVU5TXhS5TFVmpG\n",
      "200 OK QmZwfWV6h1wjFKvjhnKJXJSDY3tYdxyE6RyqpMCDABZPqQ\n",
      "200 OK QmUvb2cLaVw96Ua69rtvJoVvZ6QJr6ypyUYCX9Hkb4YBNf\n",
      "200 OK QmeqmnsThQNCjdhVno9Fhjtk3zkkUUKT6SkrQNBpRpENbi\n",
      "200 OK QmU3wEFKty118Tws75zmf2VHtBGPDcqCvLWn8ehN4PsYhL\n",
      "200 OK QmfYyqbcsrHtkcsZ3LGcVyorCN72p511jzv6m2wbYvCjZv\n",
      "200 OK QmPm9X4XYTuoALKAjUyQTB5Ra3jpeJuzpmaurniP3Ly1MS\n",
      "200 OK QmSreGqJJ4z1XzG1mympZqTVG8DCNRs5S1Pzk2T5VeUofY\n",
      "200 OK QmbvjYrAKDHKcRQHagxX5UZHgAJeCz9j3FUpTEzW2eEizV\n",
      "200 OK QmNXd7DkRELDHBajFPYhLgqzA92zWJECNt7m5hhPRwXe6U\n"
     ]
    },
    {
     "name": "stdout",
     "output_type": "stream",
     "text": [
      "200 OK QmWCsf6bwsg2Xt5GbGM5DTjUDD4JWce1irVxEhmza8bj8C\n",
      "200 OK QmbyA286dMzYRQDuYdMghCAUKXQH3hZWp4FQ5m8kYoL5Ki\n",
      "200 OK QmPDTLqmThdHqpG8TSXBmkHEYYZetc4dbNh3CCHRUfphnn\n",
      "200 OK QmSYRYTvuy1XuSP5dgwFoUM21uJQgSfRXuULwv4GvKuQmS\n",
      "200 OK QmPokVV38XZz1dip8p4aitHPQLUdYnhKDKpyADNMn7GVLt\n",
      "200 OK QmfGRkXA5gj2ske8Ci45wZnA9BRQg38iQ9vkpegABi9EbW\n",
      "200 OK QmNeM26WeUs43RvbF71rbqEutgSZQTUDRpUWy6tsJ27pha\n",
      "200 OK QmTbkoreSsv4wwybA3EjjhKaCMCeNYeCFjCr93MTd7bERJ\n",
      "200 OK QmeBhJUWTJoPVk9hqaLftcXNKJkjs63bs4VRBvViX6WniX\n",
      "200 OK QmVRZZXE4NFb8mVrYp4Hz5iHHf9AhD8enE2jEtJwFkKovN\n",
      "200 OK Qmc2DPHoKnyYxRjQfwbpbBngt5xHZrLBgkywGqZm7hHnEU\n",
      "200 OK QmYBG5zerdSkC9TGwguy5biCS5h2cg49PQCHCukJqHmfE1\n",
      "200 OK QmRyCX1DYp6s7aGXGMyPC45FX917vXYkZgksXg9fjo8GrP\n",
      "200 OK QmUPP126SvEUidcT7noCcLa4LSc3e7t3VkWLiD8EJ3vjUt\n",
      "200 OK QmaE8dWs4pgMcG8Fu4oxq8aGyveDxv6YVLJHiRVpiSnsfK\n",
      "200 OK Qmc5naesmRQ36yYVc2U2jJPvykLqVg4BWfBZWbjC9mAjM7\n",
      "200 OK QmbkocKzcWsfysBSUKWhLYDoMgNhWudxXH58ntwN2XoqN3\n",
      "200 OK QmWHAmKhyLDPU1QmkGgfSGHn29247kNLqEmTFF5xCeEbvp\n",
      "200 OK QmcQXqTYJVWv8v2eMXvmBMGkPc2pwbUdHA7763DQtXGsM9\n",
      "200 OK QmYW59Dc9ZwBSGkjMRvfJ9d5s2gesrhr5tMRTTpEM3sMDa\n",
      "200 OK QmTctgNNBg8zpbA6ZDhhMKnAfsC4x4dBRZwDPEaomCDXxr\n",
      "200 OK QmeauYbCZcfY6GwFvyFhFYDfTxzyMwLb2fTj5zcAFHyarY\n",
      "200 OK QmTPVkgfJBB1go2DCFhmacjgSWrLUzTFimdTGdB7d9Q2ao\n",
      "200 OK QmWmesADCdPTWnJdNN8Pj2PgycfoGCdVcVqA8rbwwgQMAV\n",
      "200 OK QmQvBnXgRyFMXTBqaBe7Vf2rwu8vMoBqSdDwuqDK8W2gQZ\n",
      "200 OK QmadsabYMJC96jU2S2kPCSh1suVfDVApGLwrux2WwsHd7x\n",
      "200 OK QmcQL9BjxmqJTpfqRzr6FU83sWLhRswoxwdpDKgJvzXeCc\n",
      "200 OK QmTF9aXtWxZMUVHGfym5q7RGgLaeLDhnVWDMtoWqgsPq45\n",
      "200 OK QmaoYPF9hhUvawsqeeewiXdd8YV23qWeh52qoCCeMwR8YB\n",
      "200 OK QmQnXS3YnQhH1R9XicjPPPgmvmGU5XvM4sCTntZVcizVcd\n",
      "200 OK QmP8qvMC2zf5bkw2f8s6AekLq5uzJnyWUdh8aVTPtqAYvG\n",
      "200 OK Qmeaho3rEC8pM9t3FwhCQ86rdYtrpo2iDqHSxMcf2nu51Z\n",
      "200 OK QmYHV2vdTaSubtNJefSoYx82ypsmtzrT7CGUU1EHsXzHC3\n",
      "200 OK Qmd6ugsDsiurzhbxs4AKsnLf9nxU8tmS25vdpc7wr5E1WC\n",
      "200 OK QmYQk1KQNN7gcaDpvy7w6C9rEjVJSanWdRPfebRo1CMewa\n",
      "200 OK QmQwQn4k324kMKPjsSX6ZEzjkkKWh1DNfAN2mQ3dd5aP1a\n",
      "200 OK QmTHitGwcvQbKzytzE4FAvSFRakbfwzU8atQtSrQim76CN\n",
      "200 OK QmehWukEWUEe3NeGKQm5ZnaRsD22k4Yq9Wk6P3b8zv4uJ4\n",
      "200 OK QmSQQQLYjJxXz2Hj3rtTLqKEpwyDF51D2rNDfuFuhnmpnM\n",
      "200 OK QmfMqLAiJmgjTpNaXyVFkZtCaV2kBDtzp4dMhzdvzQCrKZ\n",
      "200 OK QmZ7AWrHWrY6T6wsNujTEYNgMwmCjDGhT4bw4SAQR75rXr\n",
      "200 OK QmWhA9sQpJnxoQfzxxoD7gdjhFEPTvBaDUp53FWsoxn5ZG\n",
      "200 OK QmUmAQvj8aaR86315iUWcwyMdyJHuLhrswtLDqfk5dUU3s\n",
      "200 OK QmPnF5pxsLKS9i3KdNpVtqQcLYcYoDCYM5ocYGmYKw8hrU\n",
      "200 OK QmSSZzLPbLpegBWfxPBTVAdvUZoXAL2V6Hi58YHEi6bemW\n",
      "200 OK QmethJXKnCMd89wWBaxCBRcK2Hu8Dhx5E5AM7XeHEKsL1n\n",
      "200 OK QmTdYHoyT5eLWSZduHkivVxs3Vree1EUQUYCk8uoW4Q1EA\n",
      "200 OK QmRw6FoXJRhm4WLaWVuRgsXhE7ZfWvAKY42E386ksugfUC\n",
      "200 OK QmXvTwJQ7hadUtvGwTH2YnPX3CQbzRw1N2S7VXRJbewy7Y\n",
      "200 OK QmTiaAkd9dndEmWNk9wfpRKrTZxbaMdtWhcXtbSgbV73TB\n",
      "200 OK QmaRR26Ry11ushRsbmjL8kRKXuC8BoojXF9vFR1ziYQUJL\n",
      "200 OK QmR8dNJPcZTcmSP5g86iaGUiArs9DeYTEZkSf7Dg2hVavS\n",
      "200 OK QmbgZXshCtFswGewZTnU6m6Fis9mxnPjzx3FCW26Bey7US\n",
      "200 OK QmbizqmA6vQPyBewof9pDfXhUNsmhj4fSvSnNoSmbpJdJU\n",
      "200 OK QmcYq4VmrvK9UVmf6vcKeUXSbFqjr8FWApaMSeGZ6dio9Q\n",
      "200 OK QmdHTiDXwTzCEearGR2xf6yNnckJjx6DBCuNyxg5WfmToq\n",
      "200 OK QmeazxzsMNfAXu7F4XaUpRV4GB3UYFfvZkBBy3bJiRTBR7\n",
      "200 OK QmeZ51dTKVn6GvLovQGiD5yFpMQD6QtgaD8uKtFVCBqRpg\n",
      "200 OK Qmf3F6ADGZB2wj9EChTvRYLjHCwb83bKugsgnojm8sgjPQ\n",
      "200 OK QmfSqSb6UBRDBSH6jdcJsemEowXd7jmpfS1DzKumkgyCwq\n",
      "200 OK QmPJUvAkyzFfKfLK3GZUJFAKzPa7LWvy3HHTKMEZiXc6xf\n",
      "200 OK QmQGntYFTnheB66Ei975s9CjNUmJuZpicn6dHSepvqzban\n",
      "200 OK QmQMY3Gq67aSkvVw3mAbRrxhw8mff5MJ6Ey434zdHaBQq2\n",
      "200 OK QmQwPPDoByYoKsLudfMTSNLeXLmyo4NpRsEuu1DDbyvuHU\n",
      "200 OK QmR2FFwDqEpNNzg2PcbYPEowpvKgEU3LnJ23BiAevPCNEz\n",
      "200 OK QmRjPcfJYg7FnP794tFiAaFkPimUfgrAL2o7GqLXjNhysU\n",
      "200 OK QmRXRpfQcqPeo51QNngVRJS2dRvWfnX249Jqas69x2627t\n",
      "200 OK QmSAudjx1xD6hge3DuPvQbv6PSZxnTB8RksEaVarxodRqF\n",
      "200 OK QmSQYRsV6FL1Q7wXuKndQxvGskvHWcqLKmT6auPbsR5tyn\n",
      "200 OK QmTijEtnRGhLpdeZ9Wk75GX3tfBG5S5d6z1mLorh5pJoj6\n",
      "200 OK QmTQ9W92Dm9TCYJxARw5vxrR5crsdgxHVHBUFzcn9yvbjG\n",
      "200 OK QmUaJa9F4HQBh6cJrLxu2aqsusHyeL2XfZRwPvuLT24pjM\n",
      "200 OK QmV1oHPa4NS6dEtd2q12NzMjV6v3ToEZy96iUFDrmbT1K5\n",
      "200 OK QmVbFvebLNA5L5GQ9N4iam7xer9fGz4Xn61uarCPgc1TBs\n",
      "200 OK QmVg9JZXxWjkZVZExu8Efz2sU21ESh92ejPEgpFfqapM1E\n",
      "200 OK QmWs5ym3Z9HtbktL7iwH9p6eStkRwHvq8JfMxRHT2Tzyde\n",
      "200 OK QmWvoQPuvmwNU93MK2QQvLqMkvtcjuKaDM36DuDWVsFSbe\n",
      "200 OK QmXoh8jPzEdv8mZ4wm1mNhncRvqHQVj5FwqvuUWgeupJRq\n",
      "200 OK QmYRzjaXVARaEcCLpe8dTmxZFB2BUQ17ivL57gmYx4MsYw\n",
      "200 OK QmZA1BwRuPmFh1BFd5zcP2nTp3whtBaMfr97XHvrpMqQtw\n",
      "200 OK QmZATriLnBLGPVK7WsJDszqhbMV2xYN3KLp1EPSWXAvsAH\n",
      "200 OK QmZpPxgHQ3UQ9xT5pPNAPGXXap9GXR4MrWP4N1Zeuh5TfA\n"
     ]
    },
    {
     "ename": "NameError",
     "evalue": "name 'remove_zero_vp_proposals' is not defined",
     "output_type": "error",
     "traceback": [
      "\u001b[0;31m---------------------------------------------------------------------------\u001b[0m",
      "\u001b[0;31mNameError\u001b[0m                                 Traceback (most recent call last)",
      "\u001b[0;32m/var/folders/gk/ws1y65fn3l3_f44tyj7ms26h0000gn/T/ipykernel_73521/3244386151.py\u001b[0m in \u001b[0;36m<module>\u001b[0;34m\u001b[0m\n\u001b[1;32m     11\u001b[0m \u001b[0mall_votes_df\u001b[0m \u001b[0;34m=\u001b[0m \u001b[0mpd\u001b[0m\u001b[0;34m.\u001b[0m\u001b[0mconcat\u001b[0m\u001b[0;34m(\u001b[0m\u001b[0mvotes_df_list\u001b[0m\u001b[0;34m,\u001b[0m\u001b[0mignore_index\u001b[0m\u001b[0;34m=\u001b[0m\u001b[0;32mTrue\u001b[0m\u001b[0;34m)\u001b[0m\u001b[0;34m\u001b[0m\u001b[0;34m\u001b[0m\u001b[0m\n\u001b[1;32m     12\u001b[0m \u001b[0mall_votes_df\u001b[0m\u001b[0;34m[\u001b[0m\u001b[0;34m'created'\u001b[0m\u001b[0;34m]\u001b[0m \u001b[0;34m=\u001b[0m \u001b[0mpd\u001b[0m\u001b[0;34m.\u001b[0m\u001b[0mto_datetime\u001b[0m\u001b[0;34m(\u001b[0m\u001b[0mall_votes_df\u001b[0m\u001b[0;34m[\u001b[0m\u001b[0;34m'created'\u001b[0m\u001b[0;34m]\u001b[0m\u001b[0;34m,\u001b[0m\u001b[0munit\u001b[0m\u001b[0;34m=\u001b[0m\u001b[0;34m's'\u001b[0m\u001b[0;34m)\u001b[0m \u001b[0;31m#Convert to datetime\u001b[0m\u001b[0;34m\u001b[0m\u001b[0;34m\u001b[0m\u001b[0m\n\u001b[0;32m---> 13\u001b[0;31m \u001b[0mall_votes_df\u001b[0m \u001b[0;34m=\u001b[0m \u001b[0mremove_zero_vp_proposals\u001b[0m\u001b[0;34m(\u001b[0m\u001b[0mall_votes_df\u001b[0m\u001b[0;34m)\u001b[0m\u001b[0;34m\u001b[0m\u001b[0;34m\u001b[0m\u001b[0m\n\u001b[0m\u001b[1;32m     14\u001b[0m \u001b[0mall_votes_df\u001b[0m\u001b[0;34m.\u001b[0m\u001b[0mto_json\u001b[0m\u001b[0;34m(\u001b[0m\u001b[0;34m'all_votes_df.json'\u001b[0m\u001b[0;34m)\u001b[0m\u001b[0;34m\u001b[0m\u001b[0;34m\u001b[0m\u001b[0m\n",
      "\u001b[0;31mNameError\u001b[0m: name 'remove_zero_vp_proposals' is not defined"
     ]
    }
   ],
   "source": [
    "# Dump Vote Dataframe\n",
    "votes_df_list = []\n",
    "for proposal in proposal_json['data']['proposals']:\n",
    "    #print(proposal['state'],proposal['choices'])\n",
    "    if proposal['state'] != 'closed':\n",
    "        continue\n",
    "    else:\n",
    "        votes_for_proposals_df = make_vote_df_from_proposal_id(proposal['id'])\n",
    "        votes_df_list.append(votes_for_proposals_df)\n",
    "        \n",
    "all_votes_df = pd.concat(votes_df_list,ignore_index=True)\n",
    "all_votes_df['created'] = pd.to_datetime(all_votes_df['created'],unit='s') #Convert to datetime\n"
   ]
  },
  {
   "cell_type": "markdown",
   "id": "9a49fd2c-f931-4045-8e03-9ebabf90391d",
   "metadata": {},
   "source": [
    "## Cleaning Vote Dataframe"
   ]
  },
  {
   "cell_type": "code",
   "execution_count": 14,
   "id": "a013d1cd-084e-4fcd-ac3c-1f8cbb41c71a",
   "metadata": {},
   "outputs": [],
   "source": [
    "def remove_zero_vp_proposals(all_votes_df):\n",
    "    vp_sum_df = all_votes_df.groupby('proposal')['vp'].sum() \n",
    "    zero_vp_proposals = vp_sum_df[vp_sum_df==0].index\n",
    "    all_votes_df = all_votes_df[~all_votes_df['proposal'].isin(zero_vp_proposals)]\n",
    "    return all_votes_df"
   ]
  },
  {
   "cell_type": "code",
   "execution_count": 15,
   "id": "1aa1dff8-0402-442a-8053-8308280d195a",
   "metadata": {},
   "outputs": [],
   "source": [
    "all_votes_df = remove_zero_vp_proposals(all_votes_df) \n",
    "all_votes_df.to_json('all_votes_df.json')"
   ]
  },
  {
   "cell_type": "code",
   "execution_count": null,
   "id": "ca6699c8-2272-4857-920a-db032d8d6e02",
   "metadata": {},
   "outputs": [],
   "source": []
  },
  {
   "cell_type": "markdown",
   "id": "c0bb06b8-365b-45aa-80a5-54cc136346fd",
   "metadata": {},
   "source": [
    "# Analysis"
   ]
  },
  {
   "cell_type": "markdown",
   "id": "82bfff50-4059-4809-bdf0-4e490bf90bbc",
   "metadata": {},
   "source": [
    "###  What percentage of proposals are unanimous?\n"
   ]
  },
  {
   "cell_type": "code",
   "execution_count": 16,
   "id": "c3f8e7bf-7719-487e-a930-5dbf39de833c",
   "metadata": {},
   "outputs": [
    {
     "data": {
      "image/png": "[encoded data removed]",
      "text/plain": [
       "<Figure size 432x288 with 1 Axes>"
      ]
     },
     "metadata": {
      "needs_background": "light"
     },
     "output_type": "display_data"
    }
   ],
   "source": [
    "# What percentage of proposals are unanimous?\n",
    "proposals_df['percentage_for'] = proposals_df['scores'].map(lambda x: x[0])/proposals_df['scores_total']\n",
    "plt.scatter(proposals_df['scores_total'],proposals_df['percentage_for'])\n",
    "plt.xlabel('Scores Total')\n",
    "plt.ylabel('Percentage For')\n",
    "plt.title('Scatter of \"Percentage For vs Scores Total\"')\n",
    "plt.show()"
   ]
  },
  {
   "cell_type": "code",
   "execution_count": null,
   "id": "974566f7-b4e4-4a6c-bd38-54dff8c9bc27",
   "metadata": {},
   "outputs": [],
   "source": []
  },
  {
   "cell_type": "markdown",
   "id": "e9d289c1-a7d9-4808-9900-5ce0a6b0aa2e",
   "metadata": {},
   "source": [
    "# King Maker / Deciding Vote"
   ]
  },
  {
   "cell_type": "code",
   "execution_count": 17,
   "id": "8103a5f7-e5a4-4b53-88f1-f63b1894eaba",
   "metadata": {},
   "outputs": [],
   "source": [
    "def winning_threshold(choice,category):\n",
    "    if category == 'DG2':\n",
    "        if choice == 1:\n",
    "            return .6\n",
    "        else:\n",
    "            return .4\n",
    "    else:\n",
    "        return .5\n",
    "    \n",
    "def is_deciding_vote(row):\n",
    "    '''\n",
    "    Assuming that a vote is ALREADY on the winning side,\n",
    "    A vote is a considered a deciding vote if the following statement holds:\n",
    "    'If the vote had switched sides, then it would have still been on the winning side.'\n",
    "    '''\n",
    "    vp = row['vp']\n",
    "    choice = row['choice']\n",
    "    category = row['category']\n",
    "    scores_total = row['scores_total']\n",
    "    coalition_vp = row['coalition_vp']\n",
    "    #old_choice = choice\n",
    "    #old_my_team_score= coalition_vp\n",
    "    #old_enemy_team_score = scores_total-coalition_vp\n",
    "\n",
    "    new_choice = (choice) % 2 + 1 # 1 goes to 2, 2 goes to 1\n",
    "    new_coalition_vp = scores_total-(coalition_vp-vp)\n",
    "\n",
    "\n",
    "    new_percentage = new_coalition_vp/scores_total\n",
    "\n",
    "    new_wins = new_percentage > winning_threshold(new_choice,category)\n",
    "\n",
    "    return new_wins"
   ]
  },
  {
   "cell_type": "code",
   "execution_count": 18,
   "id": "fefc1e9c-3c5c-47b1-aceb-0fa6d4c0b1a6",
   "metadata": {},
   "outputs": [],
   "source": [
    "#Merge\n",
    "merged_df = pd.merge(all_votes_df,proposals_df,left_on='proposal',right_on='proposal_id',how='inner')"
   ]
  },
  {
   "cell_type": "code",
   "execution_count": 19,
   "id": "03ea9267-98ea-46e4-af3f-cef977cad003",
   "metadata": {},
   "outputs": [],
   "source": [
    "#Create columns\n",
    "merged_df['coalition_vp'] = merged_df.apply(lambda row: row.scores[row.choice-1],axis=1)\n",
    "merged_df['coalition_contribution'] = merged_df['vp']/merged_df['coalition_vp']\n",
    "merged_df['is_winning_coalition'] = merged_df['choice']==merged_df['result']"
   ]
  },
  {
   "cell_type": "code",
   "execution_count": 20,
   "id": "27ca0211-ca87-4a50-8c22-1970b36807a1",
   "metadata": {},
   "outputs": [
    {
     "name": "stderr",
     "output_type": "stream",
     "text": [
      "/var/folders/gk/ws1y65fn3l3_f44tyj7ms26h0000gn/T/ipykernel_73521/1840099.py:3: SettingWithCopyWarning: \n",
      "A value is trying to be set on a copy of a slice from a DataFrame.\n",
      "Try using .loc[row_indexer,col_indexer] = value instead\n",
      "\n",
      "See the caveats in the documentation: https://pandas.pydata.org/pandas-docs/stable/user_guide/indexing.html#returning-a-view-versus-a-copy\n",
      "  winning_coalition_df['is_deciding_vote'] = winning_coalition_df.apply(is_deciding_vote,axis=1)\n"
     ]
    }
   ],
   "source": [
    "#Filter and create deciding_vote column\n",
    "winning_coalition_df = merged_df[merged_df['is_winning_coalition']]\n",
    "winning_coalition_df['is_deciding_vote'] = winning_coalition_df.apply(is_deciding_vote,axis=1)\n"
   ]
  },
  {
   "cell_type": "code",
   "execution_count": 21,
   "id": "7c5b228b-9e40-4d0f-a419-fe82a164cd48",
   "metadata": {},
   "outputs": [],
   "source": [
    "#Pivot\n",
    "deciding_vote_df = winning_coalition_df.sort_values(by='coalition_contribution',ascending=False).groupby(['voter','is_deciding_vote']).size()\\\n",
    "                       .reset_index(name='counts')\\\n",
    "                       .pivot_table(index='voter',columns='is_deciding_vote',values='counts',fill_value=0)\\\n",
    "                       .sort_values(by=True,ascending=False)"
   ]
  },
  {
   "cell_type": "code",
   "execution_count": 22,
   "id": "d661b965-f761-44ea-adaa-71a1ed7f3a39",
   "metadata": {},
   "outputs": [
    {
     "data": {
      "text/html": [
       "<div>\n",
       "<style scoped>\n",
       "    .dataframe tbody tr th:only-of-type {\n",
       "        vertical-align: middle;\n",
       "    }\n",
       "\n",
       "    .dataframe tbody tr th {\n",
       "        vertical-align: top;\n",
       "    }\n",
       "\n",
       "    .dataframe thead th {\n",
       "        text-align: right;\n",
       "    }\n",
       "</style>\n",
       "<table border=\"1\" class=\"dataframe\">\n",
       "  <thead>\n",
       "    <tr style=\"text-align: right;\">\n",
       "      <th>is_deciding_vote</th>\n",
       "      <th>False</th>\n",
       "      <th>True</th>\n",
       "    </tr>\n",
       "    <tr>\n",
       "      <th>voter</th>\n",
       "      <th></th>\n",
       "      <th></th>\n",
       "    </tr>\n",
       "  </thead>\n",
       "  <tbody>\n",
       "    <tr>\n",
       "      <th>0x8627be8D8b6D250c87f802D0c48C26FA807A0857</th>\n",
       "      <td>0</td>\n",
       "      <td>26</td>\n",
       "    </tr>\n",
       "    <tr>\n",
       "      <th>0x042a135bd342910ad7F67bBda74e3fd4125D1272</th>\n",
       "      <td>77</td>\n",
       "      <td>11</td>\n",
       "    </tr>\n",
       "    <tr>\n",
       "      <th>0x4a3e950c35c6d9c2d8f5F0a6CC03aF9942134840</th>\n",
       "      <td>12</td>\n",
       "      <td>8</td>\n",
       "    </tr>\n",
       "    <tr>\n",
       "      <th>0x365047213ABe97401e8Bfa2c48D12d2731601F98</th>\n",
       "      <td>0</td>\n",
       "      <td>6</td>\n",
       "    </tr>\n",
       "    <tr>\n",
       "      <th>0xe1B6e4C28127C4704838A0a2d6c6F7c344944B22</th>\n",
       "      <td>8</td>\n",
       "      <td>6</td>\n",
       "    </tr>\n",
       "    <tr>\n",
       "      <th>...</th>\n",
       "      <td>...</td>\n",
       "      <td>...</td>\n",
       "    </tr>\n",
       "    <tr>\n",
       "      <th>0x53f0a8420474a1E05383096B9F6560c115cDD7fd</th>\n",
       "      <td>1</td>\n",
       "      <td>0</td>\n",
       "    </tr>\n",
       "    <tr>\n",
       "      <th>0x54073942343E364e4e220075592B39E9512d5629</th>\n",
       "      <td>1</td>\n",
       "      <td>0</td>\n",
       "    </tr>\n",
       "    <tr>\n",
       "      <th>0x543536BC5B66471aF8eE0d5596352A5814f71d39</th>\n",
       "      <td>1</td>\n",
       "      <td>0</td>\n",
       "    </tr>\n",
       "    <tr>\n",
       "      <th>0x544C7D7f4F407b1B55D581CcD563c7Ca8aCfC686</th>\n",
       "      <td>2</td>\n",
       "      <td>0</td>\n",
       "    </tr>\n",
       "    <tr>\n",
       "      <th>0xff59AA60Cd05418d0c086D864EA9f75d9E47EE15</th>\n",
       "      <td>1</td>\n",
       "      <td>0</td>\n",
       "    </tr>\n",
       "  </tbody>\n",
       "</table>\n",
       "<p>2504 rows × 2 columns</p>\n",
       "</div>"
      ],
      "text/plain": [
       "is_deciding_vote                            False  True\n",
       "voter                                                  \n",
       "0x8627be8D8b6D250c87f802D0c48C26FA807A0857      0    26\n",
       "0x042a135bd342910ad7F67bBda74e3fd4125D1272     77    11\n",
       "0x4a3e950c35c6d9c2d8f5F0a6CC03aF9942134840     12     8\n",
       "0x365047213ABe97401e8Bfa2c48D12d2731601F98      0     6\n",
       "0xe1B6e4C28127C4704838A0a2d6c6F7c344944B22      8     6\n",
       "...                                           ...   ...\n",
       "0x53f0a8420474a1E05383096B9F6560c115cDD7fd      1     0\n",
       "0x54073942343E364e4e220075592B39E9512d5629      1     0\n",
       "0x543536BC5B66471aF8eE0d5596352A5814f71d39      1     0\n",
       "0x544C7D7f4F407b1B55D581CcD563c7Ca8aCfC686      2     0\n",
       "0xff59AA60Cd05418d0c086D864EA9f75d9E47EE15      1     0\n",
       "\n",
       "[2504 rows x 2 columns]"
      ]
     },
     "execution_count": 22,
     "metadata": {},
     "output_type": "execute_result"
    }
   ],
   "source": [
    "deciding_vote_df"
   ]
  },
  {
   "cell_type": "code",
   "execution_count": null,
   "id": "7a99d393-fa69-4259-9f17-ffd78a3118a1",
   "metadata": {},
   "outputs": [],
   "source": []
  },
  {
   "cell_type": "code",
   "execution_count": null,
   "id": "d670cf88-ac51-4b6b-86d8-c51184114649",
   "metadata": {},
   "outputs": [],
   "source": []
  },
  {
   "cell_type": "code",
   "execution_count": null,
   "id": "5883265f-59e8-451d-9643-a914035e45e1",
   "metadata": {},
   "outputs": [],
   "source": []
  },
  {
   "cell_type": "code",
   "execution_count": null,
   "id": "407f268c-2511-4ba5-ac93-f69b229e9ca2",
   "metadata": {},
   "outputs": [],
   "source": []
  },
  {
   "cell_type": "code",
   "execution_count": null,
   "id": "9abb4e4b-93d8-4f02-bcf6-bf1da16e4c69",
   "metadata": {},
   "outputs": [],
   "source": []
  },
  {
   "cell_type": "code",
   "execution_count": null,
   "id": "5a89b5ff-e4b3-400a-b619-b233cc83a70b",
   "metadata": {},
   "outputs": [],
   "source": []
  },
  {
   "cell_type": "code",
   "execution_count": null,
   "id": "cd9d3563-aff8-4785-9fc1-cb53645ff9b2",
   "metadata": {},
   "outputs": [],
   "source": []
  },
  {
   "cell_type": "code",
   "execution_count": null,
   "id": "d5174765-7d28-4aad-a915-52e46787d4ee",
   "metadata": {},
   "outputs": [],
   "source": []
  }
 ],
 "metadata": {
  "kernelspec": {
   "display_name": "Python 3 (ipykernel)",
   "language": "python",
   "name": "python3"
  },
  "language_info": {
   "codemirror_mode": {
    "name": "ipython",
    "version": 3
   },
   "file_extension": ".py",
   "mimetype": "text/x-python",
   "name": "python",
   "nbconvert_exporter": "python",
   "pygments_lexer": "ipython3",
   "version": "3.9.7"
  }
 },
 "nbformat": 4,
 "nbformat_minor": 5
}
