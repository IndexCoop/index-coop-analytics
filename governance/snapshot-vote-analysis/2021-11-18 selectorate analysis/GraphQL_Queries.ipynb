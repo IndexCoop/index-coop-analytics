{
 "cells": [
  {
   "cell_type": "code",
   "execution_count": 13,
   "id": "7ced0c89-59ce-4811-a9d0-582423a291e8",
   "metadata": {},
   "outputs": [],
   "source": [
    "import requests\n",
    "import json\n",
    "import pandas as pd\n",
    "import matplotlib.pyplot as plt"
   ]
  },
  {
   "cell_type": "markdown",
   "id": "71803e6b-051d-447b-af62-15699c8b00bf",
   "metadata": {},
   "source": [
    "# Functions"
   ]
  },
  {
   "cell_type": "code",
   "execution_count": 15,
   "id": "6ad162e3-8d06-4440-98fa-192ba7478320",
   "metadata": {},
   "outputs": [],
   "source": [
    "def make_vote_df_from_proposal_id(proposal_id):\n",
    "    url = 'https://hub.snapshot.org/graphql/'\n",
    "    vote_query = create_vote_query(proposal_id)\n",
    "    vote_response = requests.post(url, json={'query': vote_query})\n",
    "    print(proposal_response.status_code,proposal_response.reason,proposal_id)\n",
    "    vote_json = vote_response.json()\n",
    "    vote_df = vote_json_to_df(vote_json)\n",
    "    return vote_df\n",
    "    \n",
    "def create_vote_query(proposal_id):\n",
    "    vote_query = '''\n",
    "    query Votes {\n",
    "      votes (\n",
    "        first: 9999999\n",
    "        skip: 0\n",
    "        where: {\n",
    "          proposal: \"'''+ proposal_id + '''\"\n",
    "        }\n",
    "        orderBy: \"created\",\n",
    "        orderDirection: desc\n",
    "      ) {\n",
    "        id\n",
    "        ipfs\n",
    "        voter\n",
    "        created\n",
    "        space {\n",
    "          id\n",
    "        }\n",
    "        proposal {\n",
    "          id\n",
    "        }\n",
    "        choice\n",
    "        metadata\n",
    "        vp\n",
    "        vp_by_strategy\n",
    "        vp_state\n",
    "      }\n",
    "    }\n",
    "    '''\n",
    "    return vote_query\n",
    "def vote_json_to_df(vote_json):\n",
    "    row_as_series_list=[]\n",
    "    for vote in vote_json['data']['votes']:\n",
    "        id = vote['id']\n",
    "        ipfs = vote['ipfs']\n",
    "        voter = vote['voter']\n",
    "        created = vote['created']\n",
    "        space = vote['space']['id']\n",
    "        proposal = vote['proposal']['id']\n",
    "        choice = vote['choice']\n",
    "        #metadata = vote['metadata']: {},\n",
    "        vp = vote['vp']\n",
    "        vp_by_strategy = tuple(vote['vp_by_strategy'])\n",
    "        vp_state = vote['vp_state']\n",
    "        row_as_series  = pd.Series(\n",
    "            data=(\n",
    "                id,\n",
    "                ipfs,\n",
    "                voter,\n",
    "                created,\n",
    "                space,\n",
    "                proposal,\n",
    "                choice,\n",
    "                #metadata,\n",
    "                vp,\n",
    "                vp_by_strategy,\n",
    "                vp_state,\n",
    "                ),\n",
    "            index=(\n",
    "                'vote_id',\n",
    "                'ipfs',\n",
    "                'voter',\n",
    "                'created',\n",
    "                'space',\n",
    "                'proposal',\n",
    "                'choice',\n",
    "                #'metadata',\n",
    "                'vp',\n",
    "                'vp_by_strategy',\n",
    "                'vp_state',\n",
    "            )\n",
    "        )\n",
    "        row_as_series_list.append(row_as_series)\n",
    "    return_df = pd.DataFrame(row_as_series_list)\n",
    "    return return_df\n",
    "\n",
    "\n",
    "def remove_zero_vp_proposals(all_votes_df):\n",
    "    vp_sum_df = all_votes_df.groupby('proposal')['vp'].sum() \n",
    "    zero_vp_proposals = vp_sum_df[vp_sum_df==0].index\n",
    "    all_votes_df = all_votes_df[~all_votes_df['proposal'].isin(zero_vp_proposals)]\n",
    "    return all_votes_df"
   ]
  },
  {
   "cell_type": "markdown",
   "id": "34579c29-a5f9-48d6-a18e-d4e21b776e43",
   "metadata": {},
   "source": [
    "# Querying and Dumping the Data"
   ]
  },
  {
   "cell_type": "code",
   "execution_count": 16,
   "id": "88074786-3bc1-414d-b2f6-650d5c264fee",
   "metadata": {},
   "outputs": [],
   "source": [
    "proposal_query = '''\n",
    "query Proposals {\n",
    "  proposals (\n",
    "    first: 10000000\n",
    "    where: {\n",
    "      space_in: [\"index-coop.eth\"],\n",
    "      state: \"closed\"\n",
    "    },\n",
    "    orderBy: \"created\",\n",
    "    orderDirection: desc\n",
    "  ) {\n",
    "    id\n",
    "    title\n",
    "    body\n",
    "    choices\n",
    "    start\n",
    "    end\n",
    "    snapshot\n",
    "    state\n",
    "    author\n",
    "    scores\n",
    "    scores_by_strategy\n",
    "    scores_state\n",
    "    scores_total\n",
    "    scores_updated\n",
    "    votes\n",
    "    space {\n",
    "      id\n",
    "      name\n",
    "    }\n",
    "  }\n",
    "}\n",
    "'''\n",
    "#print(proposal_query)"
   ]
  },
  {
   "cell_type": "code",
   "execution_count": 17,
   "id": "57f12908-acfd-420c-a9f6-6e487f149557",
   "metadata": {},
   "outputs": [
    {
     "name": "stdout",
     "output_type": "stream",
     "text": [
      "200 OK\n"
     ]
    }
   ],
   "source": [
    "url = 'https://hub.snapshot.org/graphql/'\n",
    "proposal_response = requests.post(url, json={'query': proposal_query})\n",
    "print(proposal_response.status_code,proposal_response.reason)"
   ]
  },
  {
   "cell_type": "code",
   "execution_count": 18,
   "id": "31db89e7-53e9-48c3-a2db-936ae6d04c86",
   "metadata": {},
   "outputs": [],
   "source": [
    "proposal_json = proposal_response.json()"
   ]
  },
  {
   "cell_type": "code",
   "execution_count": 19,
   "id": "fe8a7a98-7c24-4d42-a47a-fc475d79e227",
   "metadata": {},
   "outputs": [],
   "source": [
    "# Dump Proposal Dataframe\n",
    "proposal_row_list = []\n",
    "for proposal in proposal_json['data']['proposals']:\n",
    "    id = proposal['id']\n",
    "    title = proposal['title']\n",
    "    body = proposal['body']\n",
    "    choices = tuple(proposal['choices'])\n",
    "    scores = tuple(proposal['scores'])\n",
    "    scores_total = proposal['scores_total']\n",
    "    votes = proposal['votes']\n",
    "    \n",
    "    proposal_row = pd.Series(data=[id,title,body,choices,scores,scores_total,votes],\n",
    "                      index = ['proposal_id','title','body','choices','scores','scores_total','votes']\n",
    "                     )\n",
    "    proposal_row_list.append(proposal_row)\n",
    "\n",
    "proposals_df = pd.DataFrame(proposal_row_list)\n",
    "\n",
    "proposals_df = proposals_df[proposals_df['choices'].apply(len) == 2] # Remove multi-choice proposals\n",
    "proposals_df = proposals_df[proposals_df['scores_total'] !=0] # Remove dummy proposals\n",
    "\n",
    "proposals_df.to_json('proposals_df.json')"
   ]
  },
  {
   "cell_type": "markdown",
   "id": "0d69b28c-5db6-4a6c-aabf-5eece49e293c",
   "metadata": {},
   "source": [
    "### Double check that the choices are in the correct order"
   ]
  },
  {
   "cell_type": "code",
   "execution_count": 20,
   "id": "3cc369a8-8605-4c81-a9de-513e182084d9",
   "metadata": {},
   "outputs": [
    {
     "data": {
      "text/plain": [
       "(FOR, AGAINST)                                                         92\n",
       "(For, Against)                                                         79\n",
       "(Approve, Reject)                                                       4\n",
       "(FOR , AGAINST)                                                         2\n",
       "(Yes, No)                                                               1\n",
       "(Fund Balancer Grants DAO Wave 2, Do not fund)                          1\n",
       "(Stop BAL for Gas, Continue BAL for Gas)                                1\n",
       "(Approve, Deny)                                                         1\n",
       "(Proceed with \"Whale\" Sponsorship, Do not proceed with sponsorship)     1\n",
       "(Approve Grant, Deny Grant)                                             1\n",
       "(Yes, I support this proposal, No, I am against this proposal)          1\n",
       "(yes, I vote for this proposal, no, I vote against this proposal)       1\n",
       "(Yes we would love a Telegram, Discord is enough)                       1\n",
       "(FOR, AGAINST )                                                         1\n",
       "Name: choices, dtype: int64"
      ]
     },
     "execution_count": 20,
     "metadata": {},
     "output_type": "execute_result"
    }
   ],
   "source": [
    "proposals_df['choices'].value_counts()"
   ]
  },
  {
   "cell_type": "markdown",
   "id": "8771e568-215d-4633-b0a7-413bd13d0623",
   "metadata": {},
   "source": [
    "When we did this, we wanted the first choice to always be \"yes\""
   ]
  },
  {
   "cell_type": "code",
   "execution_count": null,
   "id": "54362c85-0630-481a-9b1e-620f0cd98c44",
   "metadata": {},
   "outputs": [],
   "source": []
  },
  {
   "cell_type": "code",
   "execution_count": null,
   "id": "84e1f05d-5da2-4c45-bcac-a8712950af4b",
   "metadata": {},
   "outputs": [],
   "source": [
    "#"
   ]
  },
  {
   "cell_type": "code",
   "execution_count": null,
   "id": "4410ce7c-6b4a-4cc9-866d-45258f8d757d",
   "metadata": {},
   "outputs": [],
   "source": [
    "# Dump Vote Dataframe\n",
    "votes_df_list = []\n",
    "for proposal in proposal_json['data']['proposals']:\n",
    "    #print(proposal['state'],proposal['choices'])\n",
    "    if proposal['state'] != 'closed':\n",
    "        continue\n",
    "    else:\n",
    "        votes_for_proposals_df = make_vote_df_from_proposal_id(proposal['id'])\n",
    "        votes_df_list.append(votes_for_proposals_df)\n",
    "        \n",
    "all_votes_df = pd.concat(votes_df_list,ignore_index=True)\n",
    "all_votes_df['created'] = pd.to_datetime(all_votes_df['created'],unit='s') #Convert to datetime\n",
    "all_votes_df = remove_zero_vp_proposals(all_votes_df) \n",
    "all_votes_df.to_json('all_votes_df.json')"
   ]
  },
  {
   "cell_type": "code",
   "execution_count": null,
   "id": "a509efd3-47af-449e-b3bb-8fbecf43234c",
   "metadata": {},
   "outputs": [],
   "source": []
  },
  {
   "cell_type": "code",
   "execution_count": null,
   "id": "a013d1cd-084e-4fcd-ac3c-1f8cbb41c71a",
   "metadata": {},
   "outputs": [],
   "source": []
  },
  {
   "cell_type": "markdown",
   "id": "c0bb06b8-365b-45aa-80a5-54cc136346fd",
   "metadata": {},
   "source": [
    "# Analysis"
   ]
  },
  {
   "cell_type": "markdown",
   "id": "82bfff50-4059-4809-bdf0-4e490bf90bbc",
   "metadata": {},
   "source": [
    "###  What percentage of proposals are unanimous?\n"
   ]
  },
  {
   "cell_type": "code",
   "execution_count": 22,
   "id": "c3f8e7bf-7719-487e-a930-5dbf39de833c",
   "metadata": {},
   "outputs": [
    {
     "data": {
      "text/plain": [
       "<matplotlib.collections.PathCollection at 0x7f4ea84f06a0>"
      ]
     },
     "execution_count": 22,
     "metadata": {},
     "output_type": "execute_result"
    },
    {
     "data": {
      "image/png": "[encoded data removed]",
      "text/plain": [
       "<Figure size 432x288 with 1 Axes>"
      ]
     },
     "metadata": {
      "needs_background": "light"
     },
     "output_type": "display_data"
    }
   ],
   "source": [
    "# What percentage of proposals are unanimous?\n",
    "proposals_df['percentage_for'] = proposals_df['scores'].map(lambda x: x[0])/proposals_df['scores_total']\n",
    "plt.scatter(proposals_df['scores_total'],proposals_df['percentage_for'])\n"
   ]
  },
  {
   "cell_type": "code",
   "execution_count": null,
   "id": "974566f7-b4e4-4a6c-bd38-54dff8c9bc27",
   "metadata": {},
   "outputs": [],
   "source": []
  },
  {
   "cell_type": "code",
   "execution_count": null,
   "id": "13f9281b-2a63-43cb-a097-437ab18c6f5f",
   "metadata": {},
   "outputs": [],
   "source": []
  },
  {
   "cell_type": "code",
   "execution_count": null,
   "id": "8103a5f7-e5a4-4b53-88f1-f63b1894eaba",
   "metadata": {},
   "outputs": [],
   "source": []
  },
  {
   "cell_type": "code",
   "execution_count": null,
   "id": "81301dbe-5d90-4b3b-947c-dd48515f522f",
   "metadata": {},
   "outputs": [],
   "source": []
  },
  {
   "cell_type": "code",
   "execution_count": null,
   "id": "7a99d393-fa69-4259-9f17-ffd78a3118a1",
   "metadata": {},
   "outputs": [],
   "source": []
  },
  {
   "cell_type": "code",
   "execution_count": null,
   "id": "d670cf88-ac51-4b6b-86d8-c51184114649",
   "metadata": {},
   "outputs": [],
   "source": []
  },
  {
   "cell_type": "code",
   "execution_count": null,
   "id": "5883265f-59e8-451d-9643-a914035e45e1",
   "metadata": {},
   "outputs": [],
   "source": []
  },
  {
   "cell_type": "code",
   "execution_count": null,
   "id": "407f268c-2511-4ba5-ac93-f69b229e9ca2",
   "metadata": {},
   "outputs": [],
   "source": []
  },
  {
   "cell_type": "code",
   "execution_count": null,
   "id": "9abb4e4b-93d8-4f02-bcf6-bf1da16e4c69",
   "metadata": {},
   "outputs": [],
   "source": []
  },
  {
   "cell_type": "code",
   "execution_count": null,
   "id": "5a89b5ff-e4b3-400a-b619-b233cc83a70b",
   "metadata": {},
   "outputs": [],
   "source": []
  },
  {
   "cell_type": "code",
   "execution_count": null,
   "id": "cd9d3563-aff8-4785-9fc1-cb53645ff9b2",
   "metadata": {},
   "outputs": [],
   "source": []
  },
  {
   "cell_type": "code",
   "execution_count": null,
   "id": "d5174765-7d28-4aad-a915-52e46787d4ee",
   "metadata": {},
   "outputs": [],
   "source": []
  }
 ],
 "metadata": {
  "kernelspec": {
   "display_name": "Python 3",
   "language": "python",
   "name": "python3"
  },
  "language_info": {
   "codemirror_mode": {
    "name": "ipython",
    "version": 3
   },
   "file_extension": ".py",
   "mimetype": "text/x-python",
   "name": "python",
   "nbconvert_exporter": "python",
   "pygments_lexer": "ipython3",
   "version": "3.9.7"
  }
 },
 "nbformat": 4,
 "nbformat_minor": 5
}
